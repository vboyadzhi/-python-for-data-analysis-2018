{
 "cells": [
  {
   "cell_type": "markdown",
   "metadata": {},
   "source": [
    "<img src=\"../imgs/python.png\" align=\"left\" height=\"140\" width=\"140\"><img src=\"../imgs/mts.jpeg\" align=\"right\" height=\"140\" width=\"140\"><center><h1>Python for Data Analysis MTSBank</h1><h2>Решения задач к уроку 2.2</h2></center>"
   ]
  },
  {
   "cell_type": "code",
   "execution_count": null,
   "metadata": {
    "collapsed": true
   },
   "outputs": [],
   "source": [
    "# Python 2 and 3 compatibility\n",
    "# pip install future\n",
    "from __future__ import (absolute_import, division,\n",
    "                        print_function, unicode_literals)\n",
    "from builtins import *"
   ]
  },
  {
   "cell_type": "markdown",
   "metadata": {},
   "source": [
    "## Пьяница\n",
    "В игре в пьяницу карточная колода раздается поровну двум игрокам. Далее они вскрывают по одной верхней карте, и тот, чья карта старше, забирает себе обе вскрытые карты, которые кладутся под низ его колоды. Тот, кто остается без карт – проигрывает.\n",
    "\n",
    "Для простоты будем считать, что все карты различны по номиналу, а также, что самая младшая карта побеждает самую старшую карту (\"шестерка берет туза\").\n",
    "\n",
    "Игрок, который забирает себе карты, сначала кладет под низ своей колоды карту первого игрока, затем карту второго игрока (то есть карта второго игрока оказывается внизу колоды).\n",
    "\n",
    "Напишите программу, которая моделирует игру в пьяницу и определяет, кто выигрывает. В игре участвует 10 карт, имеющих значения от 0 до 9, большая карта побеждает меньшую, карта со значением 0 побеждает карту 9.\n",
    "\n",
    "**Входные данные**\n",
    "\n",
    "Программа получает на вход две строки: первая строка содержит 5 карт первого игрока, вторая – 5 карт второго игрока. Карты перечислены сверху вниз, то есть каждая строка начинается с той карты, которая будет открыта первой.\n",
    "\n",
    "**Выходные данные**\n",
    "\n",
    "Программа должна определить, кто выигрывает при данной раздаче, и вывести слово first или second, после чего вывести количество ходов, сделанных до выигрыша. Если на протяжении $10^6$ ходов игра не заканчивается, программа должна вывести слово botva."
   ]
  },
  {
   "cell_type": "code",
   "execution_count": 10,
   "metadata": {},
   "outputs": [
    {
     "name": "stdout",
     "output_type": "stream",
     "text": [
      "1 2 3 4 0\n",
      "5 6 7 8 9\n",
      "second 17\n"
     ]
    }
   ],
   "source": [
    "from queue import Queue\n",
    "\n",
    "first_player_cards = Queue()\n",
    "second_player_cards = Queue()\n",
    "\n",
    "for num in input().strip().split():\n",
    "    first_player_cards.put(int(num))\n",
    "\n",
    "for num in input().strip().split():\n",
    "    second_player_cards.put(int(num))\n",
    "\n",
    "def beats(card1, card2):\n",
    "    \"\"\"\n",
    "    if card1 beats card2\n",
    "    \"\"\"\n",
    "    if abs(card1 - card2) == 9:\n",
    "        return card1 < card2\n",
    "    else:\n",
    "        return card1 > card2\n",
    "\n",
    "num_rounds = 0\n",
    "\n",
    "while not first_player_cards.empty() and not second_player_cards.empty():\n",
    "    if num_rounds >= pow(10, 6):\n",
    "        print(\"botva\")\n",
    "        break\n",
    "    card1 = first_player_cards.get()\n",
    "    card2 = second_player_cards.get()\n",
    "\n",
    "    if beats(card1, card2):\n",
    "        first_player_cards.put(card1)\n",
    "        first_player_cards.put(card2)\n",
    "    elif beats(card2, card1):\n",
    "        second_player_cards.put(card1)\n",
    "        second_player_cards.put(card2)\n",
    "    num_rounds += 1\n",
    "else:\n",
    "    if not first_player_cards.empty():\n",
    "        print(\"first\", num_rounds, sep=\" \")\n",
    "    elif not second_player_cards.empty():\n",
    "        print(\"second\", num_rounds, sep=\" \")"
   ]
  },
  {
   "cell_type": "markdown",
   "metadata": {},
   "source": [
    "# Задачи к уроку 5\n",
    "http://informatics.mccme.ru/mod/statements/view.php?id=16625#1"
   ]
  },
  {
   "cell_type": "markdown",
   "metadata": {},
   "source": [
    "## Задача A\n",
    "Напишите функцию min4(a, b, c, d), вычисляющую минимум четырех чисел, которая не содержит инструкции if, а использует стандартную функцию min. Считайте четыре целых числа и выведите их минимум."
   ]
  },
  {
   "cell_type": "code",
   "execution_count": 1,
   "metadata": {},
   "outputs": [
    {
     "name": "stdout",
     "output_type": "stream",
     "text": [
      "3,2,4,1\n",
      "1\n"
     ]
    }
   ],
   "source": [
    "# Insert 4 integers separated by commas\n",
    "a, b, c, d = [int(s) for s in input().split(',')]\n",
    "\n",
    "def min4(a, b, c, d):\n",
    "    return min(min(a, b), min(c, d))\n",
    "\n",
    "print(min4(a, b, c, d))"
   ]
  },
  {
   "cell_type": "markdown",
   "metadata": {},
   "source": [
    "## Задача В\n",
    "Даны два действительных числа x и y. Проверьте, принадлежит ли точка с координатами (x;y) заштрихованному квадрату (включая его границу). Если точка принадлежит квадрату, выведите слово YES, иначе выведите слово NO. На рисунке сетка проведена с шагом 1.\n",
    "\n",
    "<img src=\"../img/task_5B.png\" height=\"240\" width=\"240\">\n",
    "Решение должно содержать функцию IsPointInSquare(x, y), возвращающую True, если точка принадлежит квадрату и False, если не принадлежит. Основная программа должна считать координаты точки, вызвать функцию IsPointInSquare и в зависимости от возвращенного значения вывести на экран необходимое сообщение.\n",
    "Функция IsPointInSquare не должна содержать инструкцию if."
   ]
  },
  {
   "cell_type": "code",
   "execution_count": 2,
   "metadata": {},
   "outputs": [
    {
     "name": "stdout",
     "output_type": "stream",
     "text": [
      "3,1\n",
      "NO\n"
     ]
    }
   ],
   "source": [
    "# Insert 2 floats separated by commas\n",
    "x, y = [float(s) for s in input().split(',')]\n",
    "\n",
    "def IsPointInSquare(x, y):\n",
    "    return y >= abs(x) - 1 and y <= 1 - abs(x)\n",
    "\n",
    "print(\"YES\" if IsPointInSquare(x, y) else \"NO\")"
   ]
  },
  {
   "cell_type": "markdown",
   "metadata": {},
   "source": [
    "## Задача С\n",
    "Дано действительное положительное число a и целое неотрицательное число n. Вычислите $a^n$ не используя циклы и стандартную функцию pow, а используя рекуррентное соотношение $a^n=a*a^{n-1}$.\n",
    "\n",
    "Решение оформите в виде функции power(a, n)."
   ]
  },
  {
   "cell_type": "code",
   "execution_count": 3,
   "metadata": {},
   "outputs": [
    {
     "name": "stdout",
     "output_type": "stream",
     "text": [
      "3\n",
      "4\n",
      "81.0\n"
     ]
    }
   ],
   "source": [
    "a = float(input())\n",
    "n = int(input())\n",
    "\n",
    "def power(a, n):\n",
    "    if n == 0:\n",
    "        return 1\n",
    "    else:\n",
    "        return a * power(a, n-1)\n",
    "    \n",
    "print(power(a,n))"
   ]
  },
  {
   "cell_type": "markdown",
   "metadata": {},
   "source": [
    "## Задача D\n",
    "Дано натуральное число n>1. Проверьте, является ли оно простым. Программа должна вывести слово YES, если число простое и NO, если число составное.\n",
    "\n",
    "Решение оформите в виде функции IsPrime(n), которая возвращает True для простых чисел и False для составных чисел. Решение должно иметь сложность O($\\sqrt{n}$)."
   ]
  },
  {
   "cell_type": "code",
   "execution_count": 4,
   "metadata": {},
   "outputs": [
    {
     "name": "stdout",
     "output_type": "stream",
     "text": [
      "23\n",
      "True\n"
     ]
    }
   ],
   "source": [
    "from math import sqrt, ceil\n",
    "\n",
    "n = int(input())\n",
    "\n",
    "def isPrime(n):\n",
    "    if n == 2:\n",
    "        return True\n",
    "    else:\n",
    "        for i in range(2, ceil(sqrt(n)) + 1):\n",
    "            if n % i == 0:\n",
    "                return False\n",
    "        return True\n",
    "\n",
    "print(isPrime(n))"
   ]
  },
  {
   "cell_type": "markdown",
   "metadata": {},
   "source": [
    "## Задача E\n",
    "По данным числам n и k ($0 \\leq k \\leq n$) вычислите $С^k_n$ . Для решения используйте рекуррентное соотношение $С^k_n = С_{n-1}^{k-1} + С_{n-1}^{k}$.\n",
    "\n",
    "Решение оформите в виде функции C(n, k).\n"
   ]
  },
  {
   "cell_type": "code",
   "execution_count": 11,
   "metadata": {},
   "outputs": [
    {
     "name": "stdout",
     "output_type": "stream",
     "text": [
      "15\n",
      "4\n",
      "1365\n"
     ]
    }
   ],
   "source": [
    "n, k = int(input()), int(input())\n",
    "\n",
    "def my_combinations(n, k):\n",
    "    if n == k:\n",
    "        return 1\n",
    "    elif k == 0:\n",
    "        return 1\n",
    "    else: \n",
    "        return my_combinations(n-1, k-1) + my_combinations(n-1, k)\n",
    "    \n",
    "print(my_combinations(n, k))"
   ]
  },
  {
   "cell_type": "code",
   "execution_count": 12,
   "metadata": {},
   "outputs": [
    {
     "data": {
      "text/plain": [
       "1365.0"
      ]
     },
     "execution_count": 12,
     "metadata": {},
     "output_type": "execute_result"
    }
   ],
   "source": [
    "from math import factorial\n",
    "factorial(15) / factorial(4) / factorial(11)"
   ]
  },
  {
   "cell_type": "markdown",
   "metadata": {},
   "source": [
    "# Задача F\n",
    "Напишите рекурсивную функцию sum(a, b), возвращающую сумму двух целых неотрицательных чисел. Из всех арифметических операций допускаются только +1 и -1. Также нельзя использовать циклы.\n",
    "\n"
   ]
  },
  {
   "cell_type": "code",
   "execution_count": 13,
   "metadata": {},
   "outputs": [
    {
     "name": "stdout",
     "output_type": "stream",
     "text": [
      "45\n",
      "32\n",
      "77\n"
     ]
    }
   ],
   "source": [
    "a, b = int(input()), int(input())\n",
    "\n",
    "def summa(a, b):\n",
    "    if a == 0:\n",
    "        return b\n",
    "    elif b == 0:\n",
    "        return a\n",
    "    else:\n",
    "        return summa(a + 1, b - 1)\n",
    "    \n",
    "print(summa(a,b))"
   ]
  },
  {
   "cell_type": "markdown",
   "metadata": {},
   "source": [
    "## Задача G\n",
    "Дано натуральное число N и последовательность из N элементов. Требуется вывести эту последовательность в обратном порядке.\n",
    "В программе запрещается объявлять массивы и использовать циклы (даже для ввода и вывода)."
   ]
  },
  {
   "cell_type": "code",
   "execution_count": 19,
   "metadata": {},
   "outputs": [
    {
     "name": "stdout",
     "output_type": "stream",
     "text": [
      "4343 345345 35345 345345 233 3333\n",
      "3333 233 345345 35345 345345 4343 "
     ]
    }
   ],
   "source": [
    "from sys import setrecursionlimit\n",
    "setrecursionlimit(100000)\n",
    "  \n",
    "s = input().strip() # in a form \"3 4 5 6 2\"\n",
    " \n",
    "\n",
    "def reverse_recur(s, left, right, left_num, right_num):\n",
    "    if left == right == 0:\n",
    "        print(s[left], end=' ')\n",
    "        return\n",
    "    if left == right - 1:\n",
    "        print(left_num + right_num, end=' ')\n",
    "        return\n",
    "    elif left == right - 2:\n",
    "        if s[left + 1] == ' ':\n",
    "            print(right_num + s[left + 1] + left_num, end=' ')\n",
    "        else:\n",
    "            print(left_num + s[left + 1] + right_num, end=' ')\n",
    "        return\n",
    "    else:\n",
    "        if s[right - 1] != ' ':\n",
    "            right_num = s[right - 1] + right_num\n",
    "        else:\n",
    "            print(right_num, end=\" \")\n",
    "            right_num = ''\n",
    " \n",
    "        if s[left + 1] != ' ':\n",
    "            left_num = left_num + s[left + 1]\n",
    "        else:\n",
    "            saved_left_num = left_num\n",
    "            left_num = ''\n",
    " \n",
    "        reverse_recur(s, left + 1, right - 1, left_num, right_num)\n",
    " \n",
    "        if s[left + 1] == ' ':\n",
    "            print(saved_left_num, end=\" \")\n",
    " \n",
    " \n",
    "reverse_recur(s, 0, len(s)-1, s[0], s[-1])"
   ]
  },
  {
   "cell_type": "code",
   "execution_count": 23,
   "metadata": {},
   "outputs": [],
   "source": [
    "def fib_recur(n):\n",
    "    if n <= 1:\n",
    "        return 1\n",
    "    return fib_recur(n - 1) + fib_recur(n - 2)\n",
    "\n",
    "assert fib_recur(5) == 8"
   ]
  },
  {
   "cell_type": "code",
   "execution_count": null,
   "metadata": {
    "collapsed": true
   },
   "outputs": [],
   "source": [
    "nose, unittest"
   ]
  }
 ],
 "metadata": {
  "kernelspec": {
   "display_name": "Python 3",
   "language": "python",
   "name": "python3"
  },
  "language_info": {
   "codemirror_mode": {
    "name": "ipython",
    "version": 3
   },
   "file_extension": ".py",
   "mimetype": "text/x-python",
   "name": "python",
   "nbconvert_exporter": "python",
   "pygments_lexer": "ipython3",
   "version": "3.6.3"
  },
  "toc": {
   "nav_menu": {},
   "number_sections": true,
   "sideBar": true,
   "skip_h1_title": false,
   "title_cell": "Table of Contents",
   "title_sidebar": "Contents",
   "toc_cell": false,
   "toc_position": {},
   "toc_section_display": true,
   "toc_window_display": false
  }
 },
 "nbformat": 4,
 "nbformat_minor": 1
}
