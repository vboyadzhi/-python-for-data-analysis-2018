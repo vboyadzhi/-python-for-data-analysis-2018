{
 "cells": [
  {
   "cell_type": "markdown",
   "metadata": {},
   "source": [
    "<img src=\"../imgs/python.png\" align=\"left\" height=\"140\" width=\"140\"><img src=\"../imgs/mts.jpeg\" align=\"right\" height=\"140\" width=\"140\"><center><h1>Python for Data Analysis MTSBank</h1><h2>Решения задач к уроку 2.3</h2></center>"
   ]
  },
  {
   "cell_type": "code",
   "execution_count": 3,
   "metadata": {
    "collapsed": true
   },
   "outputs": [],
   "source": [
    "# Python 2 and 3 compatibility\n",
    "# pip install future\n",
    "from __future__ import (absolute_import, division,\n",
    "                        print_function, unicode_literals)\n",
    "from builtins import *"
   ]
  },
  {
   "cell_type": "markdown",
   "metadata": {},
   "source": [
    "## Задача A\n",
    "Выведите все элементы списка с четными индексами (то есть A[0], A[2], A[4], ...).\n",
    "Программа должна быть эффективной и не выполнять лишних действий!"
   ]
  },
  {
   "cell_type": "code",
   "execution_count": 1,
   "metadata": {},
   "outputs": [
    {
     "name": "stdout",
     "output_type": "stream",
     "text": [
      "3 4 7 2\n",
      "3 7\n",
      "[3, 7]\n"
     ]
    }
   ],
   "source": [
    "a_list = [int(x) for x in input().split()]\n",
    "print(*a_list[::2], sep=' ')\n",
    "print(a_list[::2], sep=' ')"
   ]
  },
  {
   "cell_type": "markdown",
   "metadata": {},
   "source": [
    "## Задача B\n",
    "Дана строка, состоящая из слов, разделенных пробелами. Определите, сколько в ней слов. Используйте для решения задачи метод count."
   ]
  },
  {
   "cell_type": "code",
   "execution_count": null,
   "metadata": {},
   "outputs": [],
   "source": [
    "s = input()\n",
    "print(s.strip().count(' ') + 1)"
   ]
  },
  {
   "cell_type": "markdown",
   "metadata": {},
   "source": [
    "## Задача C\n",
    "Дана строка, состоящая ровно из двух слов, разделенных пробелом. Переставьте эти слова местами. Результат запишите в строку и выведите получившуюся строку.\n",
    "\n",
    "При решении этой задачи нельзя пользоваться циклами и инструкцией if."
   ]
  },
  {
   "cell_type": "code",
   "execution_count": 4,
   "metadata": {},
   "outputs": [
    {
     "name": "stdout",
     "output_type": "stream",
     "text": [
      "aaaa bbbb\n",
      "bbbb aaaa\n"
     ]
    }
   ],
   "source": [
    "s = input().split(' ')\n",
    "s[0], s[1] = s[1], s[0]\n",
    "print(*s)"
   ]
  },
  {
   "cell_type": "markdown",
   "metadata": {},
   "source": [
    "## Задача D\n",
    "Дана строка, в которой буква h встречается минимум два раза. Удалите из этой строки первое и последнее вхождение буквы h, а также все символы, находящиеся между ними."
   ]
  },
  {
   "cell_type": "code",
   "execution_count": 7,
   "metadata": {},
   "outputs": [
    {
     "name": "stdout",
     "output_type": "stream",
     "text": [
      "aaaaahsdfgvsgvhbbbbbb\n",
      "aaaaa\n",
      "bbbbbb\n",
      "aaaaabbbbbb\n"
     ]
    }
   ],
   "source": [
    "s = input()\n",
    "print(s[:s.index('h')]) # s[0:5]\n",
    "print(s[s.rindex('h') + 1:])\n",
    "print(s[:s.index('h')] + s[s.rindex('h') + 1:])"
   ]
  },
  {
   "cell_type": "markdown",
   "metadata": {},
   "source": [
    "## Задача E\n",
    "Переставьте соседние элементы списка (A[0] c A[1], A[2] c A[3] и т.д.). Если элементов нечетное число, то последний элемент остается на своем месте."
   ]
  },
  {
   "cell_type": "code",
   "execution_count": 8,
   "metadata": {},
   "outputs": [
    {
     "name": "stdout",
     "output_type": "stream",
     "text": [
      "3 4 7 8 2\n",
      "4 3 8 7 2\n"
     ]
    }
   ],
   "source": [
    "a_list = [int(x) for x in input().split(sep=' ')]\n",
    "for i in range(0, len(a_list) - 1, 2):\n",
    "    a_list[i], a_list[i + 1] = a_list[i + 1], a_list[i]\n",
    "print(*a_list)"
   ]
  },
  {
   "cell_type": "markdown",
   "metadata": {},
   "source": [
    "## Задача F\n",
    "Дана строка, в которой буква h встречается как минимум два раза. Разверните последовательность символов, заключенную между первым и последнием появлением буквы h, в противоположном порядке."
   ]
  },
  {
   "cell_type": "code",
   "execution_count": null,
   "metadata": {},
   "outputs": [],
   "source": [
    "s = input()\n",
    "f, l = s.index('h') + 1, s.rindex('h')\n",
    "print(s[:f] + s[f:l][::-1] + s[l:])"
   ]
  },
  {
   "cell_type": "markdown",
   "metadata": {},
   "source": [
    "## Задача G\n",
    "Дана строка. Получите новую строку, вставив между двумя символами исходной строки символ *. Выведите полученную строку."
   ]
  },
  {
   "cell_type": "code",
   "execution_count": 9,
   "metadata": {},
   "outputs": [
    {
     "name": "stdout",
     "output_type": "stream",
     "text": [
      "ahdadh\n",
      "a*h*d*a*d*h\n"
     ]
    }
   ],
   "source": [
    "s = input()\n",
    "print(''.join([c + '*' for c in s])[:-1])"
   ]
  },
  {
   "cell_type": "markdown",
   "metadata": {},
   "source": [
    "## Задача H\n",
    "В списке все элементы различны. Поменяйте местами минимальный и максимальный элемент этого списка"
   ]
  },
  {
   "cell_type": "code",
   "execution_count": 11,
   "metadata": {},
   "outputs": [
    {
     "name": "stdout",
     "output_type": "stream",
     "text": [
      "7 7 7 3 2 1 2 1\n",
      "1 7 7 3 2 7 2 1\n"
     ]
    }
   ],
   "source": [
    "nums = [int(x) for x in input().split()]\n",
    "i_min, i_max = nums.index(min(nums)), nums.index(max(nums))\n",
    "nums[i_min], nums[i_max] = nums[i_max], nums[i_min]\n",
    "print(*nums)"
   ]
  },
  {
   "cell_type": "markdown",
   "metadata": {},
   "source": [
    "## Задача I\n",
    "Дан список чисел, который может содержать до 100000 чисел. Определите, сколько в нем встречается различных чисел.\n",
    "\n",
    "Примечание. Эту задачу на Питоне можно решить в одну строчку."
   ]
  },
  {
   "cell_type": "code",
   "execution_count": 12,
   "metadata": {},
   "outputs": [
    {
     "name": "stdout",
     "output_type": "stream",
     "text": [
      "5\n"
     ]
    }
   ],
   "source": [
    "a = [3, 4, 3, 6, 2, 2, 1, 3]\n",
    "print(len(set(a)))"
   ]
  },
  {
   "cell_type": "markdown",
   "metadata": {},
   "source": [
    "## Задача J\n",
    "Даны два списка чисел, которые могут содержать до 100000 чисел каждый. Посчитайте, сколько чисел содержится одновременно как в первом списке, так и во втором.\n",
    "\n",
    "Примечание. Эту задачу на Питоне можно решить в одну строчку."
   ]
  },
  {
   "cell_type": "code",
   "execution_count": null,
   "metadata": {},
   "outputs": [],
   "source": [
    "a = range(100)\n",
    "b = range(65, 165)\n",
    "\n",
    "print(len(set(a).intersection(set(b))))"
   ]
  },
  {
   "cell_type": "markdown",
   "metadata": {},
   "source": [
    "## Задача K\n",
    "Во входной строке записана последовательность чисел через пробел. Для каждого числа выведите слово YES (в отдельной строке), если это число ранее встречалось в последовательности или NO, если не встречалось."
   ]
  },
  {
   "cell_type": "code",
   "execution_count": 13,
   "metadata": {},
   "outputs": [
    {
     "name": "stdout",
     "output_type": "stream",
     "text": [
      "4 5 2 3 4 5\n",
      "NO\n",
      "NO\n",
      "NO\n",
      "NO\n",
      "YES\n",
      "YES\n"
     ]
    }
   ],
   "source": [
    "nums = map(int, input().split()) # [int(x) for x in input().split()]\n",
    "\n",
    "s = set()\n",
    "\n",
    "for n in nums:\n",
    "    if n in s:\n",
    "        print('YES')\n",
    "    else:\n",
    "        s.add(n)\n",
    "        print('NO')"
   ]
  },
  {
   "cell_type": "markdown",
   "metadata": {},
   "source": [
    "## Задача L\n",
    "Во входном файле (вы можете читать данные из файла input.txt) записан текст. Словом считается последовательность непробельных символов идущих подряд, слова разделены одним или большим числом пробелов или символами конца строки.\n",
    "\n",
    "Определите, сколько различных слов содержится в этом тексте."
   ]
  },
  {
   "cell_type": "code",
   "execution_count": 20,
   "metadata": {},
   "outputs": [
    {
     "name": "stdout",
     "output_type": "stream",
     "text": [
      "79\n",
      "{'new', 'separating', 'Mathematics', 'development', 'social', 'engage', 'leads', 'branch', 'with', 'mathematical', 'knowledge', 'having', 'applied', 'any', 'such', 'many', 'is', 'an', 'discovered.', 'study', 'There', 'also', 'throughout', 'for', 'Applied', 'game', 'own', 'sake,', 'its', 'science,', 'or', 'numbers,', 'and', 'began', 'line', 'pure', 'use', 'disciplines,', 'theory.', 'as', 'no', 'inspires', 'what', 'of', 'including', 'to', 'statistics', 'practical', 'often', 'discoveries', 'mind.', 'used', 'world', 'quantity,', 'other', 'sciences.', 'space,', 'fields,', 'natural', 'mathematics,', 'structure,', 'without', 'application', 'makes', 'Mathematicians', 'entirely', 'the', 'sometimes', 'concerned', 'in', 'clear', 'applications', 'are', 'mathematics', 'tool', 'engineering,', 'change.', 'essential', 'medicine,'}\n"
     ]
    }
   ],
   "source": [
    "input_file = open(\"../data/mathematics_wiki.txt\", 'r')\n",
    "\n",
    "all_words = input_file.readlines()[0].strip().split(\" \")\n",
    "unique_words = set(all_words)\n",
    "\n",
    "print(len(unique_words))"
   ]
  },
  {
   "cell_type": "markdown",
   "metadata": {
    "collapsed": true
   },
   "source": [
    "## Задача M\n",
    "Аня и Боря любят играть в разноцветные кубики, причем у каждого из них свой набор и в каждом наборе все кубики различны по цвету. Однажды дети заинтересовались, сколько существуют цветов таких, что кубики каждого цвета присутствуют в обоих наборах. Для этого они занумеровали все цвета случайными числами. На этом их энтузиазм иссяк, поэтому вам предлагается помочь им в оставшейся части.\n",
    "\n",
    "Номер любого цвета — это целое число в пределах от 0 до $10^9$."
   ]
  },
  {
   "cell_type": "code",
   "execution_count": null,
   "metadata": {},
   "outputs": [],
   "source": [
    "m, n = map(int, input().split())\n",
    "A, B = set(), set()\n",
    " \n",
    "for i in range(m):\n",
    "    A.add(int(input()))\n",
    "for i in range(n):\n",
    "    B.add(int(input()))\n",
    "\n",
    "a_and_b = sorted(A.intersection(B))\n",
    "only_a  = sorted(A.difference(B))\n",
    "only_b = sorted(B.difference(A))\n",
    " \n",
    "print(len(a_and_b))\n",
    "print(*a_and_b)\n",
    "print(len(only_a))\n",
    "print(*only_a)\n",
    "print(len(only_b))\n",
    "print(*only_b)"
   ]
  },
  {
   "cell_type": "markdown",
   "metadata": {
    "collapsed": true
   },
   "source": [
    "## Задача N\n",
    "Каждый из N школьников некоторой школы знает $M_i$ языков. Определите, какие языки знают все школьники и языки, которые знает хотя бы один из школьников.\n",
    "\n",
    "Входные данные\n",
    "\n",
    "Первая строка входных данных содержит количество школьников N. Далее идет N чисел $M_i$, после каждого из чисел идет $M_i$ строк, содержащих названия языков, которые знает i-й школьник. Длина названий языков не превышает 1000 символов, количество различных языков не более 1000. $1 \\leq N \\leq 1000$, $1 \\leq M_i \\leq 500$.\n",
    "\n",
    "Выходные данные\n",
    "\n",
    "В первой строке выведите количество языков, которые знаю все школьники. Начиная со второй строки - список таких языков. Затем - количество языков, которые знает хотя бы один школьник, на следующих строках - список таких языков."
   ]
  },
  {
   "cell_type": "code",
   "execution_count": 5,
   "metadata": {},
   "outputs": [
    {
     "name": "stdout",
     "output_type": "stream",
     "text": [
      "3\n",
      "1\n",
      "russian\n",
      "2\n",
      "russian\n",
      "english\n",
      "3\n",
      "russian\n",
      "english\n",
      "french\n",
      "1\n",
      "set(['russian'])\n",
      "3\n",
      "set(['russian', 'french', 'english'])\n"
     ]
    }
   ],
   "source": [
    "num_students = int(input())\n",
    "\n",
    "everybody, at_least_one = set(), set()\n",
    "\n",
    "for i in range(num_students):\n",
    "    langs = set()\n",
    "    for j in range(int(input())):\n",
    "        langs.add(input())\n",
    " \n",
    "    at_least_one = at_least_one.union(langs)\n",
    "    if i == 0:\n",
    "        everybody = everybody.union(langs)\n",
    "    else:\n",
    "        everybody = everybody.intersection(langs)\n",
    " \n",
    "print(len(everybody))\n",
    "print(everybody, sep=',')\n",
    "print(len(at_least_one))\n",
    "print(at_least_one, sep=',')"
   ]
  },
  {
   "cell_type": "markdown",
   "metadata": {},
   "source": [
    "## Задача O\n",
    "Во входном файле (вы можете читать данные из файла input.txt) записан текст. Словом считается последовательность непробельных символов идущих подряд, слова разделены одним или большим числом пробелов или символами конца строки.\n",
    "\n",
    "Определите, сколько различных слов содержится в этом тексте."
   ]
  },
  {
   "cell_type": "code",
   "execution_count": 22,
   "metadata": {},
   "outputs": [
    {
     "name": "stdout",
     "output_type": "stream",
     "text": [
      "{'applied': 1, 'new': 2, 'sometimes': 1, 'separating': 1, 'Mathematics': 2, 'development': 1, 'social': 1, 'engage': 1, 'leads': 1, 'branch': 1, 'with': 1, 'mathematical': 3, 'knowledge': 1, 'any': 1, 'such': 1, 'many': 1, 'disciplines,': 1, 'is': 3, 'applications': 1, 'an': 1, 'study': 1, 'also': 1, 'throughout': 1, 'for': 2, 'mind.': 1, 'Applied': 1, 'game': 1, 'own': 1, 'sake,': 1, 'its': 1, 'science,': 1, 'discovered.': 1, 'or': 1, 'and': 7, 'began': 1, 'line': 1, 'space,': 1, 'pure': 3, 'use': 1, 'theory.': 1, 'no': 1, 'as': 3, 'inspires': 1, 'what': 1, 'of': 5, 'including': 1, 'to': 2, 'statistics': 1, 'often': 1, 'discoveries': 1, 'are': 1, 'used': 1, 'having': 1, 'without': 1, 'world': 1, 'quantity,': 1, 'practical': 1, 'other': 1, 'sciences.': 1, 'fields,': 2, 'natural': 1, 'There': 1, 'structure,': 1, 'application': 2, 'makes': 1, 'mathematics,': 3, 'entirely': 1, 'the': 5, 'clear': 1, 'concerned': 1, 'in': 3, 'numbers,': 1, 'mathematics': 3, 'tool': 1, 'Mathematicians': 1, 'engineering,': 1, 'change.': 1, 'essential': 1, 'medicine,': 1}\n",
      "79\n"
     ]
    }
   ],
   "source": [
    "input_file = open(\"../data/mathematics_wiki.txt\", 'r')\n",
    "\n",
    "all_words = input_file.readlines()[0].strip().split(\" \")\n",
    "\n",
    "word_count_dict = {} # {'word1': n1, 'word2': n2}\n",
    "\n",
    "for word in all_words:\n",
    "    if word in word_count_dict:\n",
    "        word_count_dict[word] += 1\n",
    "    else:\n",
    "        word_count_dict[word] = 1\n",
    "            \n",
    "print(word_count_dict)\n",
    "\n",
    "print(len(word_count_dict))"
   ]
  }
 ],
 "metadata": {
  "kernelspec": {
   "display_name": "Python 3",
   "language": "python",
   "name": "python3"
  },
  "language_info": {
   "codemirror_mode": {
    "name": "ipython",
    "version": 3
   },
   "file_extension": ".py",
   "mimetype": "text/x-python",
   "name": "python",
   "nbconvert_exporter": "python",
   "pygments_lexer": "ipython3",
   "version": "3.6.3"
  },
  "toc": {
   "nav_menu": {},
   "number_sections": true,
   "sideBar": true,
   "skip_h1_title": false,
   "title_cell": "Table of Contents",
   "title_sidebar": "Contents",
   "toc_cell": false,
   "toc_position": {},
   "toc_section_display": true,
   "toc_window_display": false
  }
 },
 "nbformat": 4,
 "nbformat_minor": 1
}
