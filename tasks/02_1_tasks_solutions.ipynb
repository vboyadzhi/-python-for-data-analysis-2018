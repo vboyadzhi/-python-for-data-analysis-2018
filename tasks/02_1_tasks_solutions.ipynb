{
 "cells": [
  {
   "cell_type": "markdown",
   "metadata": {
    "collapsed": true
   },
   "source": [
    "<img src=\"../imgs/python.png\" align=\"left\" height=\"140\" width=\"140\"><img src=\"../imgs/mts.jpeg\" align=\"right\" height=\"140\" width=\"140\"><center><h1>Python for Data Analysis MTSBank</h1><h2>Решения задач к уроку 2.1</h2></center>"
   ]
  },
  {
   "cell_type": "code",
   "execution_count": 1,
   "metadata": {
    "collapsed": true
   },
   "outputs": [],
   "source": [
    "# Python 2 and 3 compatibility\n",
    "# pip install future\n",
    "from __future__ import (absolute_import, division,\n",
    "                        print_function, unicode_literals)\n",
    "from builtins import *"
   ]
  },
  {
   "cell_type": "markdown",
   "metadata": {},
   "source": [
    "## Задача A\n",
    "Даны два целых числа A и B (при этом A $\\leq$ B). Выведите все числа от A до B включительно."
   ]
  },
  {
   "cell_type": "code",
   "execution_count": 5,
   "metadata": {},
   "outputs": [
    {
     "name": "stdout",
     "output_type": "stream",
     "text": [
      "3\n",
      "7\n",
      "3\n",
      "4\n",
      "5\n",
      "6\n",
      "7\n"
     ]
    }
   ],
   "source": [
    "A, B = int(input()), int(input())\n",
    "\n",
    "for i in range(A, B + 1):\n",
    "    print(i)"
   ]
  },
  {
   "cell_type": "markdown",
   "metadata": {},
   "source": [
    "## Задача B\n",
    "По данному натуральном n вычислите сумму $1^2+2^2+3^2+ \\ldots +n^2$."
   ]
  },
  {
   "cell_type": "code",
   "execution_count": 6,
   "metadata": {},
   "outputs": [
    {
     "name": "stdout",
     "output_type": "stream",
     "text": [
      "5\n",
      "55\n"
     ]
    }
   ],
   "source": [
    "n = int(input())\n",
    "s = 0\n",
    "for i in range(n):\n",
    "    s += (i + 1) ** 2\n",
    "print(s)"
   ]
  },
  {
   "cell_type": "markdown",
   "metadata": {},
   "source": [
    "## Задача C\n",
    "По данному целому неотрицательному n вычислите значение n!."
   ]
  },
  {
   "cell_type": "code",
   "execution_count": 7,
   "metadata": {},
   "outputs": [
    {
     "name": "stdout",
     "output_type": "stream",
     "text": [
      "5\n",
      "120\n"
     ]
    }
   ],
   "source": [
    "n = int(input())\n",
    "f = 1\n",
    "for i in range(n):\n",
    "    f *= (i + 1)\n",
    "print(f)"
   ]
  },
  {
   "cell_type": "markdown",
   "metadata": {},
   "source": [
    "## Задача D\n",
    "По данным целым неотрицательным n и k вычислите значение числа сочетаний из n элементов по k, то есть $\\frac{n!}{k!(n-k)!}$."
   ]
  },
  {
   "cell_type": "code",
   "execution_count": 8,
   "metadata": {},
   "outputs": [
    {
     "name": "stdout",
     "output_type": "stream",
     "text": [
      "5\n",
      "2\n",
      "10\n"
     ]
    }
   ],
   "source": [
    "def factorial(n):\n",
    "    f = 1\n",
    "    for i in range(n):\n",
    "        f *= (i + 1)\n",
    "    return f\n",
    "\n",
    "n = int(input())\n",
    "k = int(input())\n",
    "print(int(factorial(n)/factorial(k)/factorial(n-k)))"
   ]
  },
  {
   "cell_type": "markdown",
   "metadata": {},
   "source": [
    "## Задача E\n",
    "Напишите программу, которая по данному числу n от 1 до 9 выводит на экран n пингвинов. Изображение одного пингвина имеет размер 5×9 символов, между двумя соседними пингвинами также имеется пустой (из пробелов) столбец. Разрешается вывести пустой столбец после последнего пингвина. Для упрощения рисования скопируйте пингвина из примера в среду разработки.\n",
    "\n"
   ]
  },
  {
   "cell_type": "code",
   "execution_count": 9,
   "metadata": {},
   "outputs": [
    {
     "name": "stdout",
     "output_type": "stream",
     "text": [
      "4\n",
      "   _~_       _~_       _~_       _~_    \n",
      "  (o o)     (o o)     (o o)     (o o)   \n",
      " /  V  \\  /  V  \\  /  V  \\  /  V  \\ \n",
      "/(  _  )\\ /(  _  )\\ /(  _  )\\ /(  _  )\\ \n",
      "  ^^ ^^     ^^ ^^     ^^ ^^     ^^ ^^   \n"
     ]
    }
   ],
   "source": [
    "penguine = [\"   _~_    \",\n",
    "            \"  (o o)   \",\n",
    "            \" /  V  \\ \",\n",
    "            \"/(  _  )\\ \",\n",
    "            \"  ^^ ^^   \"]\n",
    " \n",
    "n = int(input())\n",
    "for i in range(len(penguine)):\n",
    "    print(penguine[i] * n)"
   ]
  },
  {
   "cell_type": "markdown",
   "metadata": {
    "collapsed": true
   },
   "source": [
    "## Задача F\n",
    "Шоколадка имеет вид прямоугольника, разделенного на n×m долек. Шоколадку можно один раз разломить по прямой на две части. Определите, можно ли таким образом отломить от шоколадки ровно k долек."
   ]
  },
  {
   "cell_type": "code",
   "execution_count": 10,
   "metadata": {},
   "outputs": [
    {
     "name": "stdout",
     "output_type": "stream",
     "text": [
      "6,3,15\n",
      "YES\n"
     ]
    }
   ],
   "source": [
    "m, n, k = [int(i) for i in input().split(',')]\n",
    "\n",
    "print(\"YES\" if k <= n*m and ((k % m == 0) or (k % n == 0)) else \"NO\")"
   ]
  },
  {
   "cell_type": "markdown",
   "metadata": {},
   "source": [
    "## Задача G\n",
    "Дано линейное уравнение $ax + b = 0$. Решите уравнение, напечатайте ответ. Если ответов бесконечно много, выведите \"INF\", если их нет - \"NO\"."
   ]
  },
  {
   "cell_type": "code",
   "execution_count": 11,
   "metadata": {},
   "outputs": [
    {
     "name": "stdout",
     "output_type": "stream",
     "text": [
      "4\n",
      "7\n",
      "NO\n"
     ]
    }
   ],
   "source": [
    "# ax + b = 0\n",
    "a, b = int(input()), int(input())\n",
    "\n",
    "if a == 0 and b == 0:\n",
    "    print(\"INF\")\n",
    "elif a != 0 and (b % a == 0):\n",
    "    print(-b/a)\n",
    "else: \n",
    "    print(\"NO\")\n"
   ]
  },
  {
   "cell_type": "markdown",
   "metadata": {},
   "source": [
    "## Задача H\n",
    "Для данного числа n < 100 закончите фразу “На лугу пасется...” одним из возможных продолжений: “n коров”, “n корова”, “n коровы”, правильно склоняя слово “корова”."
   ]
  },
  {
   "cell_type": "code",
   "execution_count": 12,
   "metadata": {},
   "outputs": [
    {
     "name": "stdout",
     "output_type": "stream",
     "text": [
      "6\n",
      "6 korov\n"
     ]
    }
   ],
   "source": [
    "def vary_word_form(n):\n",
    "    r = n % 10\n",
    "    if r == 1 and (n not in range(11, 15)):\n",
    "        return 'korova'\n",
    "    elif n not in range(11, 15) and r in (2, 3, 4):\n",
    "        return 'korovy'\n",
    "    else:\n",
    "        return 'korov'\n",
    " \n",
    " \n",
    "n = int(input())\n",
    "print(str(n) + ' ' + vary_word_form(n))"
   ]
  },
  {
   "cell_type": "markdown",
   "metadata": {},
   "source": [
    "# Задача I. Диофантово уравнение"
   ]
  },
  {
   "cell_type": "markdown",
   "metadata": {},
   "source": [
    "Даны числа a, b, c, d. Выведите в порядке возрастания все целые числа от 0 до 1000, которые являются корнями уравнения $ax^3+bx^2+cx+d=0$."
   ]
  },
  {
   "cell_type": "code",
   "execution_count": 13,
   "metadata": {},
   "outputs": [
    {
     "name": "stdout",
     "output_type": "stream",
     "text": [
      "4,6,2,1\n"
     ]
    }
   ],
   "source": [
    "a, b, c, d = [int(i) for i in input().split(',')]\n",
    "for x in range(1001):\n",
    "#     print(x, a * x**3 + b * x**2 + c*x + d)\n",
    "    if a * x**3 + b * x**2 + c*x + d == 0:\n",
    "        print(x)"
   ]
  },
  {
   "cell_type": "markdown",
   "metadata": {},
   "source": [
    "## Задача J\n",
    "Квадрат трехзначного числа оканчивается тремя цифрами, равными этому числу. Найдите и выведите все такие числа."
   ]
  },
  {
   "cell_type": "code",
   "execution_count": 14,
   "metadata": {},
   "outputs": [
    {
     "name": "stdout",
     "output_type": "stream",
     "text": [
      "376\n",
      "625\n"
     ]
    }
   ],
   "source": [
    "for n in range(100, 1000):\n",
    "    if (n ** 2) % 1000 == n:\n",
    "        print(n)"
   ]
  },
  {
   "cell_type": "markdown",
   "metadata": {},
   "source": [
    "## Задача K\n",
    "По данному натуральному $n \\leq 9$ выведите лесенку из n ступенек, i-я ступенька состоит из чисел от 1 до i без пробелов."
   ]
  },
  {
   "cell_type": "code",
   "execution_count": 15,
   "metadata": {},
   "outputs": [
    {
     "name": "stdout",
     "output_type": "stream",
     "text": [
      "8\n",
      "1\n",
      "12\n",
      "123\n",
      "1234\n",
      "12345\n",
      "123456\n",
      "1234567\n",
      "12345678\n"
     ]
    }
   ],
   "source": [
    "n = int(input())\n",
    " \n",
    "for i in range(n):\n",
    "    for j in range(i + 1):\n",
    "        print(j + 1, end='')\n",
    "    print()"
   ]
  },
  {
   "cell_type": "markdown",
   "metadata": {},
   "source": [
    "## Задача L\n",
    "Дано три числа. Упорядочите их в порядке неубывания. Программа должна считывать три числа a, b, c, затем программа должна менять их значения так, чтобы стали выполнены условия $a \\leq b \\leq c$, затем программа выводит тройку a, b, c."
   ]
  },
  {
   "cell_type": "code",
   "execution_count": 16,
   "metadata": {},
   "outputs": [
    {
     "name": "stdout",
     "output_type": "stream",
     "text": [
      "5,3,7\n",
      "3 5 7\n"
     ]
    }
   ],
   "source": [
    "a, b, c = [int(s) for s in input().split(',')]\n",
    " \n",
    "if b < a: \n",
    "    a, b = b, a\n",
    "if c < b: \n",
    "    c, b = b, c\n",
    "if b < a: \n",
    "    a, b = b, a\n",
    " \n",
    "print(a, b, c, sep=' ')"
   ]
  },
  {
   "cell_type": "markdown",
   "metadata": {},
   "source": [
    "## Задача M\n",
    "Давным-давно билет на одну поездку в метро стоил 15 рубля, билет на 10 поездок стоил 125 рублей, билет на 60 поездок стоил 440 рублей. Пассажир планирует совершить n поездок. Определите, сколько билетов каждого вида он должен приобрести, чтобы суммарное количество оплаченных поездок было не меньше n, а общая стоимость приобретенных билетов — минимальна."
   ]
  },
  {
   "cell_type": "code",
   "execution_count": 36,
   "metadata": {},
   "outputs": [
    {
     "name": "stdout",
     "output_type": "stream",
     "text": [
      "40\n",
      "0 0 1\n"
     ]
    }
   ],
   "source": [
    "n = int(input())\n",
    "\n",
    "C1, C2, C3 = 15, 125, 440\n",
    "N1, N2, N3 = 1, 10, 60\n",
    "\n",
    "def cost(n1, n2, n3):\n",
    "    return C1 * n1 + C2 * n2 + C3 * n3\n",
    "\n",
    "def num_rides(n1, n2, n3):\n",
    "    return N1 * n1 + N2 * n2 + N3 * n3\n",
    "\n",
    "# init for optimal numbers of tickets\n",
    "opt_n = (0, 0, 0)\n",
    "\n",
    "# initialize min_cost to some large number\n",
    "min_cost = pow(10, 20)\n",
    "\n",
    "for n1 in range(N3 + 1):\n",
    "    for n2 in range(int(N3 / N2) + 1):\n",
    "        for n3 in range(n // N3 + 2):\n",
    "            if ((num_rides(n1, n2, n3) >= n) & (cost(n1, n2, n3) < min_cost)) :\n",
    "                min_cost = cost(n1, n2, n3)\n",
    "                opt_n = (n1, n2, n3)\n",
    "\n",
    "print(opt_n[0], opt_n[1], opt_n[2], sep=' ')"
   ]
  },
  {
   "cell_type": "markdown",
   "metadata": {},
   "source": [
    "Попробуем решить как задачу линейного программирования с помощью SciPy"
   ]
  },
  {
   "cell_type": "code",
   "execution_count": 18,
   "metadata": {},
   "outputs": [
    {
     "name": "stdout",
     "output_type": "stream",
     "text": [
      "59\n",
      "Optimization terminated successfully.\n",
      "         Current function value: 432.666667  \n",
      "         Iterations: 1\n",
      "  status: 0\n",
      " success: True\n",
      "       x: array([ 0.        ,  0.        ,  0.98333333])\n",
      "   slack: array([ 0.])\n",
      "     nit: 1\n",
      " message: 'Optimization terminated successfully.'\n",
      "     fun: 432.66666666666663\n",
      "0.0 0.0 0.983333333333\n"
     ]
    }
   ],
   "source": [
    "from scipy.optimize import linprog\n",
    "\n",
    "n = int(input())\n",
    "\n",
    "C1, C2, C3 = 15, 125, 440\n",
    "N1, N2, N3 = 1, 10, 60\n",
    "\n",
    "def cost(n1, n2, n3):\n",
    "    return C1 * n1 + C2 * n2 + C3 * n3\n",
    "\n",
    "def num_rides(n1, n2, n3):\n",
    "    return N1 * n1 + N2 * n2 + N3 * n3\n",
    "\n",
    "# min(cost(n1, n2, n3) \n",
    "#     s.t. num_rides(n1, n2, n3) >= n\n",
    "# min(C1 * n1 + C2 * n2 + C3 * n3) \n",
    "#     s.t. -N1 * n1 - N2 * n2 - N3 * n3 <= -n\n",
    "\n",
    "\n",
    "c = [C1, C2, C3]\n",
    "A = [[-N1,- N2, -N3]]\n",
    "b = [-n]\n",
    "n1_bounds, n2_bounds, n3_bounds = (0, None), (0, None), (0, None)\n",
    "res = linprog(c, A_ub=A, b_ub=b, bounds=(n1_bounds, n2_bounds, n3_bounds),\n",
    "              options={\"disp\": True})\n",
    "print(res)\n",
    "\n",
    "n1, n2, n3 = res.x\n",
    "print(n1, n2, n3, sep=' ')"
   ]
  },
  {
   "cell_type": "markdown",
   "metadata": {},
   "source": [
    "## Задача N. Сумма факториалов\n",
    "По данному натуральном n вычислите сумму 1! + 2! + 3! + ... +n!. В решении этой задачи можно использовать только один цикл."
   ]
  },
  {
   "cell_type": "code",
   "execution_count": 19,
   "metadata": {},
   "outputs": [
    {
     "name": "stdout",
     "output_type": "stream",
     "text": [
      "6\n",
      "873\n"
     ]
    }
   ],
   "source": [
    "n = int(input())\n",
    "\n",
    "def sum_factorials(n):\n",
    "    \"\"\"\n",
    "    :param n - integer\n",
    "    Calculates sum of factorials 1! + ... + n!\n",
    "    Example: 1! + 2! + 3! + 4! = 33\n",
    "    1! + 2! + 3! + 4! + 5! + 6! = 873\n",
    "    \"\"\"\n",
    "    run_sum, total_sum = 1, 0\n",
    "    for i in range(n):\n",
    "        run_sum *= (i + 1)\n",
    "        total_sum += run_sum\n",
    "    return total_sum\n",
    "\n",
    "print(sum_factorials(n))\n",
    "    "
   ]
  }
 ],
 "metadata": {
  "kernelspec": {
   "display_name": "Python 3",
   "language": "python",
   "name": "python3"
  },
  "language_info": {
   "codemirror_mode": {
    "name": "ipython",
    "version": 3
   },
   "file_extension": ".py",
   "mimetype": "text/x-python",
   "name": "python",
   "nbconvert_exporter": "python",
   "pygments_lexer": "ipython3",
   "version": "3.6.3"
  },
  "name": "seminar1_python_intro_tools.ipynb",
  "toc": {
   "nav_menu": {},
   "number_sections": true,
   "sideBar": true,
   "skip_h1_title": false,
   "title_cell": "Table of Contents",
   "title_sidebar": "Contents",
   "toc_cell": false,
   "toc_position": {},
   "toc_section_display": true,
   "toc_window_display": false
  }
 },
 "nbformat": 4,
 "nbformat_minor": 1
}
