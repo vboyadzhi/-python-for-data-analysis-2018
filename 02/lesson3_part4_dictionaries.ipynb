{
 "cells": [
  {
   "cell_type": "markdown",
   "metadata": {},
   "source": [
    "<img src=\"../imgs/python.png\" align=\"left\" height=\"140\" width=\"140\"><img src=\"../imgs/mts.jpeg\" align=\"right\" height=\"140\" width=\"140\"><center><h1> Python for Data Analysis MTSBank</h1><h2>Структуры данных/Алгоритмы</h2></center>"
   ]
  },
  {
   "cell_type": "markdown",
   "metadata": {},
   "source": [
    "## Часть 4. Словари"
   ]
  },
  {
   "cell_type": "code",
   "execution_count": null,
   "metadata": {
    "collapsed": true
   },
   "outputs": [],
   "source": [
    "# Python 2 and 3 compatibility\n",
    "# pip install future\n",
    "from __future__ import (absolute_import, division,\n",
    "                        print_function, unicode_literals)\n",
    "from builtins import *"
   ]
  },
  {
   "cell_type": "markdown",
   "metadata": {},
   "source": [
    "Словари позволяют хранить связанную информацию. Пример: храним имя и возраст человека в одной структуре."
   ]
  },
  {
   "cell_type": "markdown",
   "metadata": {},
   "source": [
    "Что такое словарь?\n",
    "===\n",
    "Словарь - это способ хранения информации, которая каким-то образом связана. Словари хранят информацию в виде пары *ключ - значение*, то есть, каждая часть информации соединена как минимум с одним значением.\n",
    "\n",
    "Словари не хранят информацию в каком-то определенном порядке, поэтому не факт, что вы получите информацию в том порядке, в котором вы ее добавили."
   ]
  },
  {
   "cell_type": "markdown",
   "metadata": {},
   "source": [
    "Общий синтаксис\n",
    "---\n",
    "В общем виде словарь в Python выглядит так:"
   ]
  },
  {
   "cell_type": "code",
   "execution_count": null,
   "metadata": {},
   "outputs": [],
   "source": [
    "dictionary_name = {key_1: value_1, key_2: value_2, key_3: value_3}"
   ]
  },
  {
   "cell_type": "markdown",
   "metadata": {},
   "source": [
    "Поскольку пара *ключ-значение* может занимать довольно большое место на экране удобнее представлять словари в форме:"
   ]
  },
  {
   "cell_type": "code",
   "execution_count": null,
   "metadata": {},
   "outputs": [],
   "source": [
    "dictionary_name = {key_1: value_1,\n",
    "                   key_2: value_2,\n",
    "                   key_3: value_3,\n",
    "                   }"
   ]
  },
  {
   "cell_type": "markdown",
   "metadata": {},
   "source": [
    "Такой способ записи намного более нагляден."
   ]
  },
  {
   "cell_type": "markdown",
   "metadata": {},
   "source": [
    "Пример\n",
    "---\n",
    "Простой пример использования словаря:"
   ]
  },
  {
   "cell_type": "code",
   "execution_count": 3,
   "metadata": {},
   "outputs": [],
   "source": [
    "python_words = {'list': 'A collection of values that are not connected, but have an order.',\n",
    "                'dictionary': 'A collection of key-value pairs.',\n",
    "                'function': 'A named set of instructions that defines a set of actions in Python.',\n",
    "                }"
   ]
  },
  {
   "cell_type": "markdown",
   "metadata": {},
   "source": [
    "Для обращения к элементу достаточно указать имя словаря и значения ключа в квадратных скобках:"
   ]
  },
  {
   "cell_type": "code",
   "execution_count": 4,
   "metadata": {},
   "outputs": [
    {
     "name": "stdout",
     "output_type": "stream",
     "text": [
      "\n",
      "Word: list\n",
      "Meaning: A collection of values that are not connected, but have an order.\n",
      "\n",
      "Word: dictionary\n",
      "Meaning: A collection of key-value pairs.\n",
      "\n",
      "Word: function\n",
      "Meaning: A named set of instructions that defines a set of actions in Python.\n"
     ]
    }
   ],
   "source": [
    "python_words = {'list': 'A collection of values that are not connected, but have an order.',\n",
    "                'dictionary': 'A collection of key-value pairs.',\n",
    "                'function': 'A named set of instructions that defines a set of actions in Python.',\n",
    "                }\n",
    "\n",
    "print(\"\\nWord: %s\" % 'list')\n",
    "print(\"Meaning: %s\" % python_words['list'])\n",
    "      \n",
    "print(\"\\nWord: %s\" % 'dictionary')\n",
    "print(\"Meaning: %s\" % python_words['dictionary'])\n",
    "\n",
    "print(\"\\nWord: %s\" % 'function')\n",
    "print(\"Meaning: %s\" % python_words['function'])"
   ]
  },
  {
   "cell_type": "markdown",
   "metadata": {},
   "source": [
    "Вариант, который мы использовали в предыдущий раз, выглядит ужасно, поэтому для более компактной версии воспользуемся циклом:"
   ]
  },
  {
   "cell_type": "code",
   "execution_count": 47,
   "metadata": {},
   "outputs": [
    {
     "name": "stdout",
     "output_type": "stream",
     "text": [
      "\n",
      "Word: list\n",
      "Meaning: A collection of values that are not connected, but have an order.\n",
      "\n",
      "Word: dictionary\n",
      "Meaning: A collection of key-value pairs.\n",
      "\n",
      "Word: function\n",
      "Meaning: A named set of instructions that defines a set of actions in Python.\n"
     ]
    }
   ],
   "source": [
    "python_words = {'list': 'A collection of values that are not connected, but have an order.',\n",
    "                'dictionary': 'A collection of key-value pairs.',\n",
    "                'function': 'A named set of instructions that defines a set of actions in Python.',\n",
    "                }\n",
    "\n",
    "# Print out the items in the dictionary.\n",
    "for word, meaning in python_words.items():\n",
    "    print(\"\\nWord: %s\" % word)\n",
    "    print(\"Meaning: %s\" % meaning)"
   ]
  },
  {
   "cell_type": "code",
   "execution_count": 49,
   "metadata": {},
   "outputs": [
    {
     "data": {
      "text/plain": [
       "dict_items([('list', 'A collection of values that are not connected, but have an order.'), ('dictionary', 'A collection of key-value pairs.'), ('function', 'A named set of instructions that defines a set of actions in Python.')])"
      ]
     },
     "execution_count": 49,
     "metadata": {},
     "output_type": "execute_result"
    }
   ],
   "source": [
    "python_words.items()"
   ]
  },
  {
   "cell_type": "markdown",
   "metadata": {},
   "source": [
    "3 строки вместо 6 выглядят намного лучше. То есть если у вас 100 элементов в словаре, напечатаете вы его с использованием тех-же 3-х строк.\n",
    "\n",
    "Общий синтаксис для использования цикла со словарем:"
   ]
  },
  {
   "cell_type": "code",
   "execution_count": null,
   "metadata": {},
   "outputs": [],
   "source": [
    "for key_name, value_name in dictionary_name.items():\n",
    "    print(key_name) # The key is stored in whatever you called the first variable.\n",
    "    print(value_name) # The value associated with that key is stored in your second variable."
   ]
  },
  {
   "cell_type": "markdown",
   "metadata": {},
   "source": [
    "Стандартные операции со словарями\n",
    "===\n",
    "Есть ряд стандартных операций: добавление, изменение и удаление"
   ]
  },
  {
   "cell_type": "markdown",
   "metadata": {},
   "source": [
    "Добавление новой пары\n",
    "---\n",
    "Для добавления новой пары необходимо к имени словаря в квадратных скобках вписать новый ключ и присвоить величину, с которой хотите связать ключ. Начнем с пустого словаря."
   ]
  },
  {
   "cell_type": "code",
   "execution_count": 7,
   "metadata": {},
   "outputs": [
    {
     "name": "stdout",
     "output_type": "stream",
     "text": [
      "\n",
      "Word: list\n",
      "Meaning: A collection of values that are not connected, but have an order.\n",
      "\n",
      "Word: dictionary\n",
      "Meaning: A collection of key-value pairs.\n",
      "\n",
      "Word: function\n",
      "Meaning: A named set of instructions that defines a set of actions in Python.\n"
     ]
    }
   ],
   "source": [
    "# Create an empty dictionary.\n",
    "python_words = {}\n",
    "\n",
    "# Fill the dictionary, pair by pair.\n",
    "python_words['list'] = 'A collection of values that are not connected, but have an order.'\n",
    "python_words['dictionary'] = 'A collection of key-value pairs.'\n",
    "python_words['function'] = 'A named set of instructions that defines a set of actions in Python.'\n",
    "\n",
    "# Print out the items in the dictionary.\n",
    "for word, meaning in python_words.items():\n",
    "    print(\"\\nWord: %s\" % word)\n",
    "    print(\"Meaning: %s\" % meaning)"
   ]
  },
  {
   "cell_type": "markdown",
   "metadata": {},
   "source": [
    "Изменение значения\n",
    "---\n",
    "В какой-то момент приходится изменять значения в словаре. Изменение значения очень похоже на изменени элемента списка. Имя словаря[ключ] и присваиваем новое значение"
   ]
  },
  {
   "cell_type": "code",
   "execution_count": 8,
   "metadata": {},
   "outputs": [
    {
     "name": "stdout",
     "output_type": "stream",
     "text": [
      "dictionary: A collection of key-value pairs.\n",
      "\n",
      "dictionary: A collection of key-value pairs. Each key can be used to access its corresponding value.\n"
     ]
    }
   ],
   "source": [
    "python_words = {'list': 'A collection of values that are not connected, but have an order.',\n",
    "                'dictionary': 'A collection of key-value pairs.',\n",
    "                'function': 'A named set of instructions that defines a set of actions in Python.',\n",
    "                }\n",
    "\n",
    "print('dictionary: ' + python_words['dictionary'])\n",
    "    \n",
    "# Clarify one of the meanings.\n",
    "python_words['dictionary'] = 'A collection of key-value pairs. Each key can be used to access its corresponding value.'\n",
    "\n",
    "print('\\ndictionary: ' + python_words['dictionary'])"
   ]
  },
  {
   "cell_type": "markdown",
   "metadata": {},
   "source": [
    "Удаление \n",
    "---\n",
    "Для удаления можно использовать `del`, как и для списков."
   ]
  },
  {
   "cell_type": "code",
   "execution_count": 9,
   "metadata": {},
   "outputs": [
    {
     "name": "stdout",
     "output_type": "stream",
     "text": [
      "\n",
      "\n",
      "These are the Python words I know:\n",
      "\n",
      "Word: list\n",
      "Meaning: A collection of values that are not connected, but have an order.\n",
      "\n",
      "Word: dictionary\n",
      "Meaning: A collection of key-value pairs.\n",
      "\n",
      "Word: function\n",
      "Meaning: A named set of instructions that defines a set of actions in Python.\n",
      "\n",
      "\n",
      "These are the Python words I know:\n",
      "\n",
      "Word: dictionary\n",
      "Meaning: A collection of key-value pairs.\n",
      "\n",
      "Word: function\n",
      "Meaning: A named set of instructions that defines a set of actions in Python.\n"
     ]
    }
   ],
   "source": [
    "python_words = {'list': 'A collection of values that are not connected, but have an order.',\n",
    "                'dictionary': 'A collection of key-value pairs.',\n",
    "                'function': 'A named set of instructions that defines a set of actions in Python.',\n",
    "                }\n",
    "\n",
    "# Show the current set of words and meanings.\n",
    "print(\"\\n\\nThese are the Python words I know:\")\n",
    "for word, meaning in python_words.items():\n",
    "    print(\"\\nWord: %s\" % word)\n",
    "    print(\"Meaning: %s\" % meaning)\n",
    "    \n",
    "# Remove the word 'list' and its meaning.\n",
    "del python_words['list']\n",
    "\n",
    "# Show the current set of words and meanings.\n",
    "print(\"\\n\\nThese are the Python words I know:\")\n",
    "for word, meaning in python_words.items():\n",
    "    print(\"\\nWord: %s\" % word)\n",
    "    print(\"Meaning: %s\" % meaning)"
   ]
  },
  {
   "cell_type": "markdown",
   "metadata": {},
   "source": [
    "Если мы будем продолжать работать с этим кодом, лучше сделать вывод значений словаря в виде функции. Посмотрим как это выглядит:"
   ]
  },
  {
   "cell_type": "code",
   "execution_count": 10,
   "metadata": {},
   "outputs": [
    {
     "name": "stdout",
     "output_type": "stream",
     "text": [
      "\n",
      "\n",
      "These are the Python words I know:\n",
      "\n",
      "Word: list\n",
      "Meaning: A collection of values that are not connected, but have an order.\n",
      "\n",
      "Word: dictionary\n",
      "Meaning: A collection of key-value pairs.\n",
      "\n",
      "Word: function\n",
      "Meaning: A named set of instructions that defines a set of actions in Python.\n",
      "\n",
      "\n",
      "These are the Python words I know:\n",
      "\n",
      "Word: dictionary\n",
      "Meaning: A collection of key-value pairs.\n",
      "\n",
      "Word: function\n",
      "Meaning: A named set of instructions that defines a set of actions in Python.\n"
     ]
    }
   ],
   "source": [
    "def show_words_meanings(python_words):\n",
    "    # This function takes in a dictionary of python words and meanings,\n",
    "    #  and prints out each word with its meaning.\n",
    "    print(\"\\n\\nThese are the Python words I know:\")\n",
    "    for word, meaning in python_words.items():\n",
    "        print(\"\\nWord: %s\" % word)\n",
    "        print(\"Meaning: %s\" % meaning)\n",
    "        \n",
    "\n",
    "python_words = {'list': 'A collection of values that are not connected, but have an order.',\n",
    "                'dictionary': 'A collection of key-value pairs.',\n",
    "                'function': 'A named set of instructions that defines a set of actions in Python.',\n",
    "                }\n",
    "\n",
    "show_words_meanings(python_words)\n",
    "    \n",
    "# Remove the word 'list' and its meaning.\n",
    "del python_words['list']\n",
    "\n",
    "show_words_meanings(python_words)"
   ]
  },
  {
   "cell_type": "markdown",
   "metadata": {},
   "source": [
    "Давайте поменяем наш пример с учетом написанной функции:"
   ]
  },
  {
   "cell_type": "code",
   "execution_count": 11,
   "metadata": {},
   "outputs": [
    {
     "name": "stdout",
     "output_type": "stream",
     "text": [
      "\n",
      "\n",
      "These are the Python words I know:\n",
      "\n",
      "list: A collection of values that are not connected, but have an order.\n",
      "\n",
      "dictionary: A collection of key-value pairs.\n",
      "\n",
      "function: A named set of instructions that defines a set of actions in Python.\n",
      "\n",
      "\n",
      "These are the Python words I know:\n",
      "\n",
      "dictionary: A collection of key-value pairs.\n",
      "\n",
      "function: A named set of instructions that defines a set of actions in Python.\n"
     ]
    }
   ],
   "source": [
    "def show_words_meanings(python_words):\n",
    "    # This function takes in a dictionary of python words and meanings,\n",
    "    #  and prints out each word with its meaning.\n",
    "    print(\"\\n\\nThese are the Python words I know:\")\n",
    "    for word, meaning in python_words.items():\n",
    "        print(\"\\n%s: %s\" % (word, meaning))\n",
    "        \n",
    "\n",
    "python_words = {'list': 'A collection of values that are not connected, but have an order.',\n",
    "                'dictionary': 'A collection of key-value pairs.',\n",
    "                'function': 'A named set of instructions that defines a set of actions in Python.',\n",
    "                }\n",
    "\n",
    "show_words_meanings(python_words)\n",
    "    \n",
    "# Remove the word 'list' and its meaning.\n",
    "del python_words['list']\n",
    "\n",
    "show_words_meanings(python_words)"
   ]
  },
  {
   "cell_type": "markdown",
   "metadata": {},
   "source": [
    "Изменяем ключи\n",
    "---\n",
    "Изменение ключа делается следующим способом:\n",
    "\n",
    "- Создать новый ключ и скопировать значение к новому ключу.\n",
    "- Удалить старый ключ, который удалит и значение.\n",
    "\n",
    "Посмотрим как это выглядит на примере. "
   ]
  },
  {
   "cell_type": "code",
   "execution_count": 12,
   "metadata": {},
   "outputs": [
    {
     "name": "stdout",
     "output_type": "stream",
     "text": [
      "{'list': 'A collection of values that are not connected, but have an order.'}\n"
     ]
    }
   ],
   "source": [
    "# We have a spelling mistake!\n",
    "python_words = {'lisst': 'A collection of values that are not connected, but have an order.'}\n",
    "\n",
    "# Create a new, correct key, and connect it to the old value.\n",
    "#  Then delete the old key.\n",
    "python_words['list'] = python_words['lisst']\n",
    "del python_words['lisst']\n",
    "\n",
    "# Print the dictionary, to show that the key has changed.\n",
    "print(python_words)"
   ]
  },
  {
   "cell_type": "markdown",
   "metadata": {},
   "source": [
    "Цикл по словарю\n",
    "===\n",
    "После добавления значени часто приходится что-то искать или выводить добавленные в словарь значения. Эти действия можно сделать несколькими способами:\n",
    "\n",
    "- Цикл через все пары;\n",
    "- Цикл по ключам;\n",
    "- Цикл по значениям."
   ]
  },
  {
   "cell_type": "markdown",
   "metadata": {},
   "source": [
    "Цикл через все пары\n",
    "---\n",
    "Такой цикл уже был показан в предыдущих примерах. В общем формате цикл выглядит так:"
   ]
  },
  {
   "cell_type": "code",
   "execution_count": 13,
   "metadata": {},
   "outputs": [
    {
     "name": "stdout",
     "output_type": "stream",
     "text": [
      "\n",
      "Key: key_2\n",
      "Value: value_2\n",
      "\n",
      "Key: key_3\n",
      "Value: value_3\n",
      "\n",
      "Key: key_1\n",
      "Value: value_1\n"
     ]
    }
   ],
   "source": [
    "my_dict = {'key_1': 'value_1',\n",
    "    'key_2': 'value_2',\n",
    "    'key_3': 'value_3',\n",
    "    }\n",
    "\n",
    "for key, value in my_dict.items():\n",
    "    print('\\nKey: %s' % key)\n",
    "    print('Value: %s' % value)"
   ]
  },
  {
   "cell_type": "markdown",
   "metadata": {},
   "source": [
    "Это работает потому, что используется метод `.items()`, который вытаскивает пары в виде кортежей:"
   ]
  },
  {
   "cell_type": "code",
   "execution_count": 14,
   "metadata": {},
   "outputs": [
    {
     "name": "stdout",
     "output_type": "stream",
     "text": [
      "dict_items([('key_2', 'value_2'), ('key_3', 'value_3'), ('key_1', 'value_1')])\n"
     ]
    }
   ],
   "source": [
    "my_dict = {'key_1': 'value_1',\n",
    "    'key_2': 'value_2',\n",
    "    'key_3': 'value_3',\n",
    "    }\n",
    "\n",
    "print(my_dict.items())"
   ]
  },
  {
   "cell_type": "markdown",
   "metadata": {},
   "source": [
    "Синтаксис `for key, value in my_dict.items():` выполняет проходку по списку tuples, и достает первый и второй элемент для нас.\n"
   ]
  },
  {
   "cell_type": "code",
   "execution_count": 15,
   "metadata": {},
   "outputs": [
    {
     "name": "stdout",
     "output_type": "stream",
     "text": [
      "\n",
      "Word: list\n",
      "Meaning: A collection of values that are not connected, but have an order.\n",
      "\n",
      "Word: dictionary\n",
      "Meaning: A collection of key-value pairs.\n",
      "\n",
      "Word: function\n",
      "Meaning: A named set of instructions that defines a set of actions in Python.\n"
     ]
    }
   ],
   "source": [
    "python_words = {'list': 'A collection of values that are not connected, but have an order.',\n",
    "                'dictionary': 'A collection of key-value pairs.',\n",
    "                'function': 'A named set of instructions that defines a set of actions in Python.',\n",
    "                }\n",
    "\n",
    "for word, meaning in python_words.items():\n",
    "    print(\"\\nWord: %s\" % word)\n",
    "    print(\"Meaning: %s\" % meaning)"
   ]
  },
  {
   "cell_type": "markdown",
   "metadata": {},
   "source": [
    "Цикл по ключам\n",
    "---\n",
    "Python предоставляет инструмент для прохождения только по ключам словаря:"
   ]
  },
  {
   "cell_type": "code",
   "execution_count": 16,
   "metadata": {},
   "outputs": [
    {
     "name": "stdout",
     "output_type": "stream",
     "text": [
      "Key: key_2\n",
      "Key: key_3\n",
      "Key: key_1\n"
     ]
    }
   ],
   "source": [
    "my_dict = {'key_1': 'value_1',\n",
    "    'key_2': 'value_2',\n",
    "    'key_3': 'value_3',\n",
    "    }\n",
    "\n",
    "for key in my_dict.keys():\n",
    "    print('Key: %s' % key)"
   ]
  },
  {
   "cell_type": "markdown",
   "metadata": {},
   "source": [
    "Это стандартное поведение при проходе по словарю. Поэтому можно убрать `.keys()` и получить абсолютно такой же эффект:"
   ]
  },
  {
   "cell_type": "code",
   "execution_count": 17,
   "metadata": {},
   "outputs": [
    {
     "name": "stdout",
     "output_type": "stream",
     "text": [
      "Key: key_2\n",
      "Key: key_3\n",
      "Key: key_1\n"
     ]
    }
   ],
   "source": [
    "my_dict = {'key_1': 'value_1',\n",
    "    'key_2': 'value_2',\n",
    "    'key_3': 'value_3',\n",
    "    }\n",
    "\n",
    "for key in my_dict:\n",
    "    print('Key: %s' % key)"
   ]
  },
  {
   "cell_type": "markdown",
   "metadata": {},
   "source": [
    "Единственное преимущество в использовании `.keys()` - это читаемость кода. В любом случае всякий, кто знаком с Python, поймет что происходит. Далее мы будем писать наши циклы без`.keys()`, если нам понадобится такой эффект.\n",
    "\n",
    "Можно также достать любое необходимое значение по ключу во время прохода циклом, используя стандартный способ доступа:"
   ]
  },
  {
   "cell_type": "code",
   "execution_count": 18,
   "metadata": {},
   "outputs": [
    {
     "name": "stdout",
     "output_type": "stream",
     "text": [
      "Key: key_2\n",
      "The value for key_2 is value_2.\n",
      "Key: key_3\n",
      "Key: key_1\n"
     ]
    }
   ],
   "source": [
    "my_dict = {'key_1': 'value_1',\n",
    "    'key_2': 'value_2',\n",
    "    'key_3': 'value_3',\n",
    "    }\n",
    "\n",
    "for key in my_dict:\n",
    "    print('Key: %s' % key)\n",
    "    if key == 'key_2':\n",
    "        print(\"The value for key_2 is %s.\" % my_dict[key])"
   ]
  },
  {
   "cell_type": "markdown",
   "metadata": {},
   "source": [
    "Давайте применим этот способ к нашему словарю:"
   ]
  },
  {
   "cell_type": "code",
   "execution_count": 19,
   "metadata": {},
   "outputs": [
    {
     "name": "stdout",
     "output_type": "stream",
     "text": [
      "The following Python words have been defined:\n",
      "- list\n",
      "- dictionary\n",
      "- function\n"
     ]
    }
   ],
   "source": [
    "python_words = {'list': 'A collection of values that are not connected, but have an order.',\n",
    "                'dictionary': 'A collection of key-value pairs.',\n",
    "                'function': 'A named set of instructions that defines a set of actions in Python.',\n",
    "                }\n",
    "\n",
    "# Show the words that are currently in the dictionary.\n",
    "print(\"The following Python words have been defined:\")\n",
    "for word in python_words:\n",
    "    print(\"- %s\" % word)"
   ]
  },
  {
   "cell_type": "markdown",
   "metadata": {},
   "source": [
    "Можно добавить немного интерактива и спросить пользователя, какое слово ему интересно, и выдать ему значение:"
   ]
  },
  {
   "cell_type": "code",
   "execution_count": 53,
   "metadata": {},
   "outputs": [
    {
     "name": "stdout",
     "output_type": "stream",
     "text": [
      "The following Python words have been defined:\n",
      "- list\n",
      "- dictionary\n",
      "- function\n",
      "\n",
      "What word would you like to learn about? sdsd\n",
      "\n",
      "sdsd: None\n"
     ]
    }
   ],
   "source": [
    "python_words = {'list': 'A collection of values that are not connected, but have an order.',\n",
    "                'dictionary': 'A collection of key-value pairs.',\n",
    "                'function': 'A named set of instructions that defines a set of actions in Python.',\n",
    "                }\n",
    "\n",
    "# Show the words that are currently in the dictionary.\n",
    "print(\"The following Python words have been defined:\")\n",
    "for word in python_words:\n",
    "    print(\"- %s\" % word)\n",
    "    \n",
    "# Allow the user to choose a word, and then display the meaning for that word.\n",
    "requested_word = input(\"\\nWhat word would you like to learn about? \")\n",
    "print(\"\\n%s: %s\" % (requested_word, python_words.get(requested_word)))"
   ]
  },
  {
   "cell_type": "markdown",
   "metadata": {},
   "source": [
    "Можно использовать цикл while, что позволит пользователю смотреть информацию по многим ключам:"
   ]
  },
  {
   "cell_type": "code",
   "execution_count": 54,
   "metadata": {},
   "outputs": [
    {
     "name": "stdout",
     "output_type": "stream",
     "text": [
      "The following Python words have been defined:\n",
      "- list\n",
      "- dictionary\n",
      "- function\n",
      "\n",
      "What word would you like to learn about? (or 'quit') list\n",
      "\n",
      "  list: A collection of values that are not connected, but have an order.\n",
      "\n",
      "What word would you like to learn about? (or 'quit') function\n",
      "\n",
      "  function: A named set of instructions that defines a set of actions in Python.\n",
      "\n",
      "What word would you like to learn about? (or 'quit') quit\n",
      "\n",
      "  Sorry, I don't know that word.\n"
     ]
    }
   ],
   "source": [
    "python_words = {'list': 'A collection of values that are not connected, but have an order.',\n",
    "                'dictionary': 'A collection of key-value pairs.',\n",
    "                'function': 'A named set of instructions that defines a set of actions in Python.',\n",
    "                }\n",
    "\n",
    "# Show the words that are currently in the dictionary.\n",
    "print(\"The following Python words have been defined:\")\n",
    "for word in python_words:\n",
    "    print(\"- %s\" % word)\n",
    "\n",
    "requested_word = ''\n",
    "while requested_word != 'quit':\n",
    "    # Allow the user to choose a word, and then display the meaning for that word.\n",
    "    requested_word = input(\"\\nWhat word would you like to learn about? (or 'quit') \")\n",
    "    if requested_word in python_words.keys():\n",
    "        print(\"\\n  %s: %s\" % (requested_word, python_words[requested_word]))\n",
    "    else:\n",
    "        # Handle misspellings, and words not yet stored.\n",
    "        print(\"\\n  Sorry, I don't know that word.\")"
   ]
  },
  {
   "cell_type": "markdown",
   "metadata": {},
   "source": [
    "Добавим конструкцию `elif`, чтобы `quit` не воспринималось как запрашиваемый ключ словаря:"
   ]
  },
  {
   "cell_type": "code",
   "execution_count": 25,
   "metadata": {},
   "outputs": [
    {
     "name": "stdout",
     "output_type": "stream",
     "text": [
      "The following Python words have been defined:\n",
      "- list\n",
      "- dictionary\n",
      "- function\n",
      "\n",
      "What word would you like to learn about? (or 'quit') list\n",
      "\n",
      "  list: A collection of values that are not connected, but have an order.\n",
      "\n",
      "What word would you like to learn about? (or 'quit') quit\n",
      "\n",
      "  Bye!\n"
     ]
    }
   ],
   "source": [
    "python_words = {'list': 'A collection of values that are not connected, but have an order.',\n",
    "                'dictionary': 'A collection of key-value pairs.',\n",
    "                'function': 'A named set of instructions that defines a set of actions in Python.',\n",
    "                }\n",
    "\n",
    "# Show the words that are currently in the dictionary.\n",
    "print(\"The following Python words have been defined:\")\n",
    "for word in python_words:\n",
    "    print(\"- %s\" % word)\n",
    "\n",
    "requested_word = ''\n",
    "while requested_word != 'quit':\n",
    "    # Allow the user to choose a word, and then display the meaning for that word.\n",
    "    requested_word = input(\"\\nWhat word would you like to learn about? (or 'quit') \")\n",
    "    if requested_word in python_words.keys():\n",
    "        # This is a word we know, so show the meaning.\n",
    "        print(\"\\n  %s: %s\" % (requested_word, python_words[requested_word]))\n",
    "    elif requested_word != 'quit':\n",
    "        # This is not in python_words, and it's not 'quit'.\n",
    "        print(\"\\n  Sorry, I don't know that word.\")\n",
    "    else:\n",
    "        # The word is quit.\n",
    "        print(\"\\n  Bye!\")"
   ]
  },
  {
   "cell_type": "markdown",
   "metadata": {},
   "source": [
    "Цикл по всем значениям\n",
    "---\n",
    "Python также позволяет проходить по значениям словаря:"
   ]
  },
  {
   "cell_type": "code",
   "execution_count": 26,
   "metadata": {},
   "outputs": [
    {
     "name": "stdout",
     "output_type": "stream",
     "text": [
      "Value: value_2\n",
      "Value: value_3\n",
      "Value: value_1\n"
     ]
    }
   ],
   "source": [
    "my_dict = {'key_1': 'value_1',\n",
    "    'key_2': 'value_2',\n",
    "    'key_3': 'value_3',\n",
    "    }\n",
    "\n",
    "for value in my_dict.values():\n",
    "    print('Value: %s' % value)"
   ]
  },
  {
   "cell_type": "markdown",
   "metadata": {},
   "source": [
    "Используя предыдущий пример, можно сделать небольшой опросник, пользователь должен угадать слово по его описанию:"
   ]
  },
  {
   "cell_type": "code",
   "execution_count": 27,
   "metadata": {},
   "outputs": [
    {
     "name": "stdout",
     "output_type": "stream",
     "text": [
      "Meaning: A collection of values that are not connected, but have an order.\n",
      "Meaning: A collection of key-value pairs.\n",
      "Meaning: A named set of instructions that defines a set of actions in Python.\n"
     ]
    }
   ],
   "source": [
    "python_words = {'list': 'A collection of values that are not connected, but have an order.',\n",
    "                'dictionary': 'A collection of key-value pairs.',\n",
    "                'function': 'A named set of instructions that defines a set of actions in Python.',\n",
    "                }\n",
    "\n",
    "for meaning in python_words.values():\n",
    "    print(\"Meaning: %s\" % meaning)"
   ]
  },
  {
   "cell_type": "markdown",
   "metadata": {},
   "source": [
    "Давайте спросим пользователя:"
   ]
  },
  {
   "cell_type": "code",
   "execution_count": 55,
   "metadata": {},
   "outputs": [
    {
     "name": "stdout",
     "output_type": "stream",
     "text": [
      "\n",
      "Meaning: A collection of values that are not connected, but have an order.\n",
      "What word do you think this is? list\n",
      "You got it!\n",
      "\n",
      "Meaning: A collection of key-value pairs.\n",
      "What word do you think this is? dictionary\n",
      "You got it!\n",
      "\n",
      "Meaning: A named set of instructions that defines a set of actions in Python.\n",
      "What word do you think this is? quit\n"
     ]
    },
    {
     "ename": "KeyError",
     "evalue": "'quit'",
     "output_type": "error",
     "traceback": [
      "\u001b[0;31m---------------------------------------------------------------------------\u001b[0m",
      "\u001b[0;31mKeyError\u001b[0m                                  Traceback (most recent call last)",
      "\u001b[0;32m<ipython-input-55-b94f138221df>\u001b[0m in \u001b[0;36m<module>\u001b[0;34m()\u001b[0m\n\u001b[1;32m     12\u001b[0m \u001b[0;34m\u001b[0m\u001b[0m\n\u001b[1;32m     13\u001b[0m     \u001b[0;31m# The guess is correct if the guessed word's meaning matches the current meaning.\u001b[0m\u001b[0;34m\u001b[0m\u001b[0;34m\u001b[0m\u001b[0m\n\u001b[0;32m---> 14\u001b[0;31m     \u001b[0;32mif\u001b[0m \u001b[0mpython_words\u001b[0m\u001b[0;34m[\u001b[0m\u001b[0mguessed_word\u001b[0m\u001b[0;34m]\u001b[0m \u001b[0;34m==\u001b[0m \u001b[0mmeaning\u001b[0m\u001b[0;34m:\u001b[0m\u001b[0;34m\u001b[0m\u001b[0m\n\u001b[0m\u001b[1;32m     15\u001b[0m         \u001b[0mprint\u001b[0m\u001b[0;34m(\u001b[0m\u001b[0;34m\"You got it!\"\u001b[0m\u001b[0;34m)\u001b[0m\u001b[0;34m\u001b[0m\u001b[0m\n\u001b[1;32m     16\u001b[0m     \u001b[0;32melse\u001b[0m\u001b[0;34m:\u001b[0m\u001b[0;34m\u001b[0m\u001b[0m\n",
      "\u001b[0;31mKeyError\u001b[0m: 'quit'"
     ]
    }
   ],
   "source": [
    "python_words = {'list': 'A collection of values that are not connected, but have an order.',\n",
    "                'dictionary': 'A collection of key-value pairs.',\n",
    "                'function': 'A named set of instructions that defines a set of actions in Python.',\n",
    "                }\n",
    "\n",
    "# Print each meaning, one at a time, and ask the user\n",
    "#  what word they think it is.\n",
    "for meaning in python_words.values():\n",
    "    print(\"\\nMeaning: %s\" % meaning)\n",
    "    \n",
    "    guessed_word = input(\"What word do you think this is? \")\n",
    "    \n",
    "    # The guess is correct if the guessed word's meaning matches the current meaning.\n",
    "    if python_words[guessed_word] == meaning:\n",
    "        print(\"You got it!\")\n",
    "    else:\n",
    "        print(\"Sorry, that's just not the right word.\")"
   ]
  },
  {
   "cell_type": "markdown",
   "metadata": {},
   "source": [
    "И конечно несколько раз тоже можно спрашивать:"
   ]
  },
  {
   "cell_type": "code",
   "execution_count": 32,
   "metadata": {},
   "outputs": [
    {
     "name": "stdout",
     "output_type": "stream",
     "text": [
      "\n",
      "Meaning: A collection of values that are not connected, but have an order.\n",
      "\n",
      "What word do you think this is? list\n",
      "You got it!\n",
      "\n",
      "Meaning: A collection of key-value pairs.\n",
      "\n",
      "What word do you think this is? quit\n"
     ]
    },
    {
     "ename": "KeyError",
     "evalue": "'quit'",
     "output_type": "error",
     "traceback": [
      "\u001b[0;31m---------------------------------------------------------------------------\u001b[0m",
      "\u001b[0;31mKeyError\u001b[0m                                  Traceback (most recent call last)",
      "\u001b[0;32m<ipython-input-32-81e24e4bdbd0>\u001b[0m in \u001b[0;36m<module>\u001b[0;34m()\u001b[0m\n\u001b[1;32m     15\u001b[0m \u001b[0;34m\u001b[0m\u001b[0m\n\u001b[1;32m     16\u001b[0m         \u001b[0;31m# The guess is correct if the guessed word's meaning matches the current meaning.\u001b[0m\u001b[0;34m\u001b[0m\u001b[0;34m\u001b[0m\u001b[0m\n\u001b[0;32m---> 17\u001b[0;31m         \u001b[0;32mif\u001b[0m \u001b[0mpython_words\u001b[0m\u001b[0;34m[\u001b[0m\u001b[0mguessed_word\u001b[0m\u001b[0;34m]\u001b[0m \u001b[0;34m==\u001b[0m \u001b[0mmeaning\u001b[0m\u001b[0;34m:\u001b[0m\u001b[0;34m\u001b[0m\u001b[0m\n\u001b[0m\u001b[1;32m     18\u001b[0m             \u001b[0mprint\u001b[0m\u001b[0;34m(\u001b[0m\u001b[0;34m\"You got it!\"\u001b[0m\u001b[0;34m)\u001b[0m\u001b[0;34m\u001b[0m\u001b[0m\n\u001b[1;32m     19\u001b[0m             \u001b[0mcorrect\u001b[0m \u001b[0;34m=\u001b[0m \u001b[0;32mTrue\u001b[0m\u001b[0;34m\u001b[0m\u001b[0m\n",
      "\u001b[0;31mKeyError\u001b[0m: 'quit'"
     ]
    }
   ],
   "source": [
    "python_words = {'list': 'A collection of values that are not connected, but have an order.',\n",
    "                'dictionary': 'A collection of key-value pairs.',\n",
    "                'function': 'A named set of instructions that defines a set of actions in Python.',\n",
    "                }\n",
    "\n",
    "# Print each meaning, one at a time, and ask the user\n",
    "#  what word they think it is.\n",
    "for meaning in python_words.values():\n",
    "    print(\"\\nMeaning: %s\" % meaning)\n",
    "    \n",
    "    # Assume the guess is not correct; keep guessing until correct.\n",
    "    correct = False\n",
    "    while not correct:\n",
    "        guessed_word = input(\"\\nWhat word do you think this is? \")\n",
    "    \n",
    "        # The guess is correct if the guessed word's meaning matches the current meaning.\n",
    "        if python_words[guessed_word] == meaning:\n",
    "            print(\"You got it!\")\n",
    "            correct = True\n",
    "        else:\n",
    "            print(\"Sorry, that's just not the right word.\")"
   ]
  },
  {
   "cell_type": "markdown",
   "metadata": {},
   "source": [
    "Последнее, можно показать из чего пользователь должен выбрать:"
   ]
  },
  {
   "cell_type": "code",
   "execution_count": 35,
   "metadata": {},
   "outputs": [
    {
     "name": "stdout",
     "output_type": "stream",
     "text": [
      "\n",
      "A collection of values that are not connected, but have an order.\n",
      "\n",
      "What word do you think this is?\n",
      "list  dictionary  function  \n",
      "- lsit\n"
     ]
    },
    {
     "ename": "KeyError",
     "evalue": "'lsit'",
     "output_type": "error",
     "traceback": [
      "\u001b[0;31m---------------------------------------------------------------------------\u001b[0m",
      "\u001b[0;31mKeyError\u001b[0m                                  Traceback (most recent call last)",
      "\u001b[0;32m<ipython-input-35-208df4a5c9a3>\u001b[0m in \u001b[0;36m<module>\u001b[0;34m()\u001b[0m\n\u001b[1;32m     25\u001b[0m \u001b[0;34m\u001b[0m\u001b[0m\n\u001b[1;32m     26\u001b[0m         \u001b[0;31m# The guess is correct if the guessed word's meaning matches the current meaning.\u001b[0m\u001b[0;34m\u001b[0m\u001b[0;34m\u001b[0m\u001b[0m\n\u001b[0;32m---> 27\u001b[0;31m         \u001b[0;32mif\u001b[0m \u001b[0mpython_words\u001b[0m\u001b[0;34m[\u001b[0m\u001b[0mguessed_word\u001b[0m\u001b[0;34m]\u001b[0m \u001b[0;34m==\u001b[0m \u001b[0mmeaning\u001b[0m\u001b[0;34m:\u001b[0m\u001b[0;34m\u001b[0m\u001b[0m\n\u001b[0m\u001b[1;32m     28\u001b[0m             \u001b[0mprint\u001b[0m\u001b[0;34m(\u001b[0m\u001b[0;34m\"You got it!\"\u001b[0m\u001b[0;34m)\u001b[0m\u001b[0;34m\u001b[0m\u001b[0m\n\u001b[1;32m     29\u001b[0m             \u001b[0mcorrect\u001b[0m \u001b[0;34m=\u001b[0m \u001b[0;32mTrue\u001b[0m\u001b[0;34m\u001b[0m\u001b[0m\n",
      "\u001b[0;31mKeyError\u001b[0m: 'lsit'"
     ]
    }
   ],
   "source": [
    "python_words = {'list': 'A collection of values that are not connected, but have an order.',\n",
    "                'dictionary': 'A collection of key-value pairs.',\n",
    "                'function': 'A named set of instructions that defines a set of actions in Python.',\n",
    "                }\n",
    "\n",
    "def show_words(python_words):\n",
    "    # A simple function to show the words in the dictionary.\n",
    "    display_message = \"\"\n",
    "    for word in python_words.keys():\n",
    "        display_message += word + '  '\n",
    "    print(display_message)\n",
    "\n",
    "# Print each meaning, one at a time, and ask the user\n",
    "#  what word they think it is.\n",
    "for meaning in python_words.values():\n",
    "    print(\"\\n%s\" % meaning)\n",
    "\n",
    "    # Assume the guess is not correct; keep guessing until correct.\n",
    "    correct = False\n",
    "    while not correct:\n",
    "        \n",
    "        print(\"\\nWhat word do you think this is?\")\n",
    "        show_words(python_words)\n",
    "        guessed_word = input(\"- \")    \n",
    "        \n",
    "        # The guess is correct if the guessed word's meaning matches the current meaning.\n",
    "        if python_words[guessed_word] == meaning:\n",
    "            print(\"You got it!\")\n",
    "            correct = True\n",
    "        else:\n",
    "            print(\"Sorry, that's just not the right word.\")"
   ]
  },
  {
   "cell_type": "markdown",
   "metadata": {},
   "source": [
    "Немного порядка\n",
    "===\n",
    "Проблемой словарей является то, что связанные значения не отсортированы в каком-либо порядке. Когда вы достаете ключи или значение, вы никогда не знаете, в каком порядке их получите. Пройтись по значениям довольно просто, но давайте сделаем сортировку\n",
    "\n",
    "Посмотрим, что если просто использовать *dictionary.keys()*:"
   ]
  },
  {
   "cell_type": "code",
   "execution_count": 36,
   "metadata": {},
   "outputs": [
    {
     "name": "stdout",
     "output_type": "stream",
     "text": [
      "list\n",
      "dictionary\n",
      "function\n"
     ]
    }
   ],
   "source": [
    "python_words = {'list': 'A collection of values that are not connected, but have an order.',\n",
    "                'dictionary': 'A collection of key-value pairs.',\n",
    "                'function': 'A named set of instructions that defines a set of actions in Python.',\n",
    "                }\n",
    "\n",
    "for word in python_words.keys():\n",
    "    print(word)"
   ]
  },
  {
   "cell_type": "markdown",
   "metadata": {},
   "source": [
    "Значения никак не отсортированы. Можно использовать *sorted()* чтобы отсортировать то, что мы будем получать:"
   ]
  },
  {
   "cell_type": "code",
   "execution_count": 37,
   "metadata": {},
   "outputs": [
    {
     "name": "stdout",
     "output_type": "stream",
     "text": [
      "dictionary\n",
      "function\n",
      "list\n"
     ]
    }
   ],
   "source": [
    "python_words = {'list': 'A collection of values that are not connected, but have an order.',\n",
    "                'dictionary': 'A collection of key-value pairs.',\n",
    "                'function': 'A named set of instructions that defines a set of actions in Python.',\n",
    "                }\n",
    "\n",
    "for word in sorted(python_words.keys()):\n",
    "    print(word)"
   ]
  },
  {
   "cell_type": "markdown",
   "metadata": {},
   "source": [
    "Такой подход можно использовать и для ключей, и для значений. Пример, когда слова и их значения могут быть выведены в алфавитном порядке:"
   ]
  },
  {
   "cell_type": "code",
   "execution_count": 38,
   "metadata": {},
   "outputs": [
    {
     "name": "stdout",
     "output_type": "stream",
     "text": [
      "Dictionary: A collection of key-value pairs.\n",
      "Function: A named set of instructions that defines a set of actions in Python.\n",
      "List: A collection of values that are not connected, but have an order.\n"
     ]
    }
   ],
   "source": [
    "python_words = {'list': 'A collection of values that are not connected, but have an order.',\n",
    "                'dictionary': 'A collection of key-value pairs.',\n",
    "                'function': 'A named set of instructions that defines a set of actions in Python.',\n",
    "                }\n",
    "\n",
    "for word in sorted(python_words.keys()):\n",
    "    print(\"%s: %s\" % (word.title(), python_words[word]))"
   ]
  },
  {
   "cell_type": "markdown",
   "metadata": {},
   "source": [
    "Данный подход не затрагивает содержание словаря. Но если вы хотите использовать отсортированные словари, существует структра данных, которая реализовывает такой подход - \n",
    "[OrderedDict](http://docs.python.org/3.3/library/collections.html#ordereddict-objects)."
   ]
  },
  {
   "cell_type": "markdown",
   "metadata": {},
   "source": [
    "Nesting\n",
    "===\n",
    "Nesting - одна из самых мощных концепций в Python. В данном случае она позволяет завернуть один словарь внутрь другого. Мы рассмотрим два примера: списки внутри словаря и словарь внутри словаря. Таким способом можно расширять имеющиеся структуры данных и полностью пересмотреть подход к организации данных."
   ]
  },
  {
   "cell_type": "markdown",
   "metadata": {},
   "source": [
    "Список в словаре\n",
    "---\n",
    "Словарь объединяет 2 части информации (ключ и значение). Это могут быть части информации любого вида и любой структуры. В качестве ключей оставим строковые переменные, но в качестве значения будет список.\n",
    "\n",
    "В первом примере мы будем хранить имя человека и последовательность его любимых чисел. И мы по очереди пройдем по каждому человеку и его списку."
   ]
  },
  {
   "cell_type": "code",
   "execution_count": null,
   "metadata": {
    "collapsed": true
   },
   "outputs": [],
   "source": [
    "a = [1, 2, a]"
   ]
  },
  {
   "cell_type": "code",
   "execution_count": 39,
   "metadata": {},
   "outputs": [
    {
     "name": "stdout",
     "output_type": "stream",
     "text": [
      "Eric's favorite numbers are:\n",
      "[3, 11, 19, 23, 42]\n",
      "\n",
      "Ever's favorite numbers are:\n",
      "[2, 4, 5]\n",
      "\n",
      "Willie's favorite numbers are:\n",
      "[5, 35, 120]\n"
     ]
    }
   ],
   "source": [
    "# This program stores people's favorite numbers, and displays them.\n",
    "favorite_numbers = {'eric': [3, 11, 19, 23, 42],\n",
    "                    'ever': [2, 4, 5],\n",
    "                    'willie': [5, 35, 120],\n",
    "                    }\n",
    "\n",
    "# Display each person's favorite numbers.\n",
    "print(\"Eric's favorite numbers are:\")\n",
    "print(favorite_numbers['eric'])\n",
    "\n",
    "print(\"\\nEver's favorite numbers are:\")\n",
    "print(favorite_numbers['ever'])\n",
    "\n",
    "print(\"\\nWillie's favorite numbers are:\")\n",
    "print(favorite_numbers['willie'])"
   ]
  },
  {
   "cell_type": "markdown",
   "metadata": {},
   "source": [
    "Заменим циклом по ключам:"
   ]
  },
  {
   "cell_type": "code",
   "execution_count": 40,
   "metadata": {},
   "outputs": [
    {
     "name": "stdout",
     "output_type": "stream",
     "text": [
      "\n",
      "Willie's favorite numbers are:\n",
      "[5, 35, 120]\n",
      "\n",
      "Eric's favorite numbers are:\n",
      "[3, 11, 19, 23, 42]\n",
      "\n",
      "Ever's favorite numbers are:\n",
      "[2, 4, 5]\n"
     ]
    }
   ],
   "source": [
    "# This program stores people's favorite numbers, and displays them.\n",
    "favorite_numbers = {'eric': [3, 11, 19, 23, 42],\n",
    "                    'ever': [2, 4, 5],\n",
    "                    'willie': [5, 35, 120],\n",
    "                    }\n",
    "\n",
    "# Display each person's favorite numbers.\n",
    "for name in favorite_numbers:\n",
    "    print(\"\\n%s's favorite numbers are:\" % name.title())\n",
    "    print(favorite_numbers[name])      "
   ]
  },
  {
   "cell_type": "markdown",
   "metadata": {},
   "source": [
    "Структура вполне понятная, очевидно, что к чему привязанно в данном случае.\n",
    "\n",
    "Тем не менее это плохая идея - пробовать использовать сырой вывод для структуры с такой связностью. Лучше использовать еще один цикл. "
   ]
  },
  {
   "cell_type": "code",
   "execution_count": 41,
   "metadata": {},
   "outputs": [
    {
     "name": "stdout",
     "output_type": "stream",
     "text": [
      "\n",
      "Willie's favorite numbers are:\n",
      "5\n",
      "35\n",
      "120\n",
      "\n",
      "Eric's favorite numbers are:\n",
      "3\n",
      "11\n",
      "19\n",
      "23\n",
      "42\n",
      "\n",
      "Ever's favorite numbers are:\n",
      "2\n",
      "4\n",
      "5\n"
     ]
    }
   ],
   "source": [
    "# This program stores people's favorite numbers, and displays them.\n",
    "favorite_numbers = {'eric': [3, 11, 19, 23, 42],\n",
    "                    'ever': [2, 4, 5],\n",
    "                    'willie': [5, 35, 120],\n",
    "                    }\n",
    "\n",
    "# Display each person's favorite numbers.\n",
    "for name in favorite_numbers:\n",
    "    print(\"\\n%s's favorite numbers are:\" % name.title())\n",
    "    \n",
    "    # Each value is itself a list, so let's put that list in a variable.\n",
    "    current_favorite_numbers = favorite_numbers[name]\n",
    "    for favorite_number in current_favorite_numbers:\n",
    "        print(favorite_number)        "
   ]
  },
  {
   "cell_type": "markdown",
   "metadata": {},
   "source": [
    "Словарь в словаре\n",
    "---\n",
    "Для демонстрации будем использовать следующий пример, возьмем словарь животных и добавим описание этому животному. Ключами будут имена/клички животных. Значение будет содержать: вид животного, хозяина и информацию о том, была ли проведена вакцинация."
   ]
  },
  {
   "cell_type": "code",
   "execution_count": 42,
   "metadata": {},
   "outputs": [
    {
     "name": "stdout",
     "output_type": "stream",
     "text": [
      "Here is what I know about Willie:\n",
      "kind: dog\n",
      "owner: eric\n",
      "vaccinated: True\n",
      "\n",
      "Here is what I know about Walter:\n",
      "kind: cockroach\n",
      "owner: eric\n",
      "vaccinated: False\n",
      "\n",
      "Here is what I know about Peso:\n",
      "kind: dog\n",
      "owner: chloe\n",
      "vaccinated: True\n"
     ]
    }
   ],
   "source": [
    "# This program stores information about pets. For each pet,\n",
    "#   we store the kind of animal, the owner's name, and\n",
    "#   the breed.\n",
    "pets = {'willie': {'kind': 'dog', 'owner': 'eric', 'vaccinated': True},\n",
    "        'walter': {'kind': 'cockroach', 'owner': 'eric', 'vaccinated': False},\n",
    "        'peso': {'kind': 'dog', 'owner': 'chloe', 'vaccinated': True},\n",
    "        }\n",
    "\n",
    "# Let's show all the information for each pet.\n",
    "print(\"Here is what I know about Willie:\")\n",
    "print(\"kind: \" + pets['willie']['kind'])\n",
    "print(\"owner: \" + pets['willie']['owner'])\n",
    "print(\"vaccinated: \" + str(pets['willie']['vaccinated']))\n",
    "\n",
    "print(\"\\nHere is what I know about Walter:\")\n",
    "print(\"kind: \" + pets['walter']['kind'])\n",
    "print(\"owner: \" + pets['walter']['owner'])\n",
    "print(\"vaccinated: \" + str(pets['walter']['vaccinated']))\n",
    "\n",
    "print(\"\\nHere is what I know about Peso:\")\n",
    "print(\"kind: \" + pets['peso']['kind'])\n",
    "print(\"owner: \" + pets['peso']['owner'])\n",
    "print(\"vaccinated: \" + str(pets['peso']['vaccinated']))"
   ]
  },
  {
   "cell_type": "markdown",
   "metadata": {},
   "source": [
    "Довольно громоздкое описание, но, тем не менее, дает четкое понимание того, что происходит внутри структуры и как организованы данные.\n",
    "\n",
    "Давайте сделаем более компактный вариант:"
   ]
  },
  {
   "cell_type": "code",
   "execution_count": 43,
   "metadata": {},
   "outputs": [
    {
     "name": "stdout",
     "output_type": "stream",
     "text": [
      "\n",
      "Here is what I know about Walter:\n",
      "kind: cockroach\n",
      "owner: eric\n",
      "vaccinated: False\n",
      "\n",
      "Here is what I know about Willie:\n",
      "kind: dog\n",
      "owner: eric\n",
      "vaccinated: True\n",
      "\n",
      "Here is what I know about Peso:\n",
      "kind: dog\n",
      "owner: chloe\n",
      "vaccinated: True\n"
     ]
    }
   ],
   "source": [
    "# This program stores information about pets. For each pet,\n",
    "#   we store the kind of animal, the owner's name, and\n",
    "#   the breed.\n",
    "pets = {'willie': {'kind': 'dog', 'owner': 'eric', 'vaccinated': True},\n",
    "        'walter': {'kind': 'cockroach', 'owner': 'eric', 'vaccinated': False},\n",
    "        'peso': {'kind': 'dog', 'owner': 'chloe', 'vaccinated': True},\n",
    "        }\n",
    "\n",
    "# Let's show all the information for each pet.\n",
    "for pet_name, pet_information in pets.items():\n",
    "    print(\"\\nHere is what I know about %s:\" % pet_name.title())\n",
    "    print(\"kind: \" + pet_information['kind'])\n",
    "    print(\"owner: \" + pet_information['owner'])\n",
    "    print(\"vaccinated: \" + str(pet_information['vaccinated']))"
   ]
  },
  {
   "cell_type": "markdown",
   "metadata": {},
   "source": [
    "Запись компактная, но если мы добавим информацию к исходному словарю, возникнут некоторые проблемы. Поэтому давайте дадим каждому словарю по циклу:"
   ]
  },
  {
   "cell_type": "code",
   "execution_count": 44,
   "metadata": {},
   "outputs": [
    {
     "name": "stdout",
     "output_type": "stream",
     "text": [
      "\n",
      "Here is what I know about Walter:\n",
      "owner: eric\n",
      "kind: cockroach\n",
      "vaccinated: False\n",
      "\n",
      "Here is what I know about Willie:\n",
      "owner: eric\n",
      "kind: dog\n",
      "vaccinated: True\n",
      "\n",
      "Here is what I know about Peso:\n",
      "owner: chloe\n",
      "kind: dog\n",
      "vaccinated: True\n"
     ]
    }
   ],
   "source": [
    "# This program stores information about pets. For each pet,\n",
    "#   we store the kind of animal, the owner's name, and\n",
    "#   the breed.\n",
    "pets = {'willie': {'kind': 'dog', 'owner': 'eric', 'vaccinated': True},\n",
    "        'walter': {'kind': 'cockroach', 'owner': 'eric', 'vaccinated': False},\n",
    "        'peso': {'kind': 'dog', 'owner': 'chloe', 'vaccinated': True},\n",
    "        }\n",
    "\n",
    "# Let's show all the information for each pet.\n",
    "for pet_name, pet_information in pets.items():\n",
    "    print(\"\\nHere is what I know about %s:\" % pet_name.title())\n",
    "    # Each animal's dictionary is in 'information'\n",
    "    for key in pet_information:\n",
    "        print(key + \": \" + str(pet_information[key]))"
   ]
  },
  {
   "cell_type": "markdown",
   "metadata": {},
   "source": [
    "Такая структура в начеле может выглядить сложно, давайте поясним.\n",
    "\n",
    "- Первый цикл идет по ключам - имена животных\n",
    "- Каждое имя используется чтобы 'распаковать' словарь с описанием для этого имени.\n",
    "- Внутренний цикл идет по ключам описания, и вытаскивает все ключи, которые сохранены во вложенном словаре.\n",
    "- Мы печатаем ключ, который показывает нам, что мы собираемся увидеть, и значения ключа.\n",
    "- Мы так жеможем улучшить вывод:\n",
    "    - Имя владельца можно печатать с большой буквы\n",
    "    - Печатать 'yes' или 'no', вместо True и False.\n",
    "    \n",
    "Давайте выведем финальную версию:"
   ]
  },
  {
   "cell_type": "code",
   "execution_count": 46,
   "metadata": {},
   "outputs": [
    {
     "name": "stdout",
     "output_type": "stream",
     "text": [
      "\n",
      "Here is what I know about Walter:\n",
      "owner: Eric\n",
      "kind: cockroach\n",
      "vaccinated: no\n",
      "\n",
      "Here is what I know about Willie:\n",
      "owner: Eric\n",
      "kind: dog\n",
      "vaccinated: yes\n",
      "\n",
      "Here is what I know about Peso:\n",
      "owner: Chloe\n",
      "kind: dog\n",
      "vaccinated: yes\n"
     ]
    }
   ],
   "source": [
    "# This program stores information about pets. For each pet,\n",
    "#   we store the kind of animal, the owner's name, and\n",
    "#   the breed.\n",
    "pets = {'willie': {'kind': 'dog', 'owner': 'eric', 'vaccinated': True},\n",
    "        'walter': {'kind': 'cockroach', 'owner': 'eric', 'vaccinated': False},\n",
    "        'peso': {'kind': 'dog', 'owner': 'chloe', 'vaccinated': True},\n",
    "        }\n",
    "\n",
    "# Let's show all the information for each pet.\n",
    "for pet_name, pet_information in pets.items():\n",
    "    print(\"\\nHere is what I know about %s:\" % pet_name.title())\n",
    "    # Each animal's dictionary is in pet_information\n",
    "    for key in pet_information:\n",
    "        if key == 'owner':\n",
    "            # Capitalize the owner's name.\n",
    "            print(key + \": \" + pet_information[key].title())\n",
    "        elif key == 'vaccinated':\n",
    "            # Print 'yes' for True, and 'no' for False.\n",
    "            vaccinated = pet_information['vaccinated']\n",
    "            if vaccinated:\n",
    "                print('vaccinated: yes')\n",
    "            else:\n",
    "                print('vaccinated: no')\n",
    "        else:\n",
    "            # No special formatting needed for this key.\n",
    "            print(key + \": \" + pet_information[key])"
   ]
  },
  {
   "cell_type": "markdown",
   "metadata": {},
   "source": [
    "Важное замечание о nesting\n",
    "---\n",
    "Вложения на 1-2 уровня могут быть очень удобны, но это становится плохо читаемым, если слишком увлекаеться таким подходом. Если у вас большая глубина вложений - задумайтесь, возможно, вы используете неправильный способ хранения информации. Для очень сложных разветвленных типов существуют классы и базы данных, которые позволяют сохранять сложную связанную информацию и взаимодействовать с ней.\n",
    "\n",
    "Чаще всего вы частично извлекаете информацию из базы данных и упаковываете её в словарь, нежели используете струтуры глубокой вложенности."
   ]
  },
  {
   "cell_type": "markdown",
   "metadata": {},
   "source": [
    "# Полезные ссылки\n",
    " - Детальный анализ словаря Python как структуры данных на <a href=\"http://habrahabr.ru/post/247843/\">Хабрахабре</a> \n",
    " - Краткое введение в списки, кортежи, словари и файлы на <a href=\"http://habrahabr.ru/post/30092/\">Хабрахабре</a>"
   ]
  }
 ],
 "metadata": {
  "kernelspec": {
   "display_name": "Python 3",
   "language": "python",
   "name": "python3"
  },
  "language_info": {
   "codemirror_mode": {
    "name": "ipython",
    "version": 3
   },
   "file_extension": ".py",
   "mimetype": "text/x-python",
   "name": "python",
   "nbconvert_exporter": "python",
   "pygments_lexer": "ipython3",
   "version": "3.6.3"
  },
  "toc": {
   "nav_menu": {},
   "number_sections": true,
   "sideBar": true,
   "skip_h1_title": false,
   "title_cell": "Table of Contents",
   "title_sidebar": "Contents",
   "toc_cell": false,
   "toc_position": {},
   "toc_section_display": true,
   "toc_window_display": false
  }
 },
 "nbformat": 4,
 "nbformat_minor": 1
}
