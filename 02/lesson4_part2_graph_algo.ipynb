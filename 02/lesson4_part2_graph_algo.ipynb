{
 "cells": [
  {
   "cell_type": "markdown",
   "metadata": {},
   "source": [
    "<img src=\"../imgs/python.png\" align=\"left\" height=\"140\" width=\"140\"><img src=\"../imgs/mts.jpeg\" align=\"right\" height=\"140\" width=\"140\"><center><h1> Python for Data Analysis MTSBank</h1><h2>Структуры данных/Графы</h2></center>"
   ]
  },
  {
   "cell_type": "markdown",
   "metadata": {},
   "source": [
    "## Часть 2. Классические алгоритмы на графах"
   ]
  },
  {
   "cell_type": "code",
   "execution_count": null,
   "metadata": {
    "collapsed": true
   },
   "outputs": [],
   "source": [
    "# Python 2 and 3 compatibility\n",
    "# pip install future\n",
    "from __future__ import (absolute_import, division,\n",
    "                        print_function, unicode_literals)\n",
    "from builtins import *"
   ]
  },
  {
   "cell_type": "markdown",
   "metadata": {},
   "source": [
    "### Кратчайший путь в графе"
   ]
  },
  {
   "cell_type": "markdown",
   "metadata": {},
   "source": [
    "Заданы n вершин графа (узлов сети) $v_1, v_2, \\ldots, v_n$ и положительные целые длины дуг $d_{ij} = d(v_i, v_j)$\n",
    "между ними. Нужно для всех $k \\in \\{2, \\ldots, n\\}$ найти минимальную длину пути из $v_1$ в $v_k$."
   ]
  },
  {
   "cell_type": "markdown",
   "metadata": {},
   "source": [
    "Для начала посмотрим, как мы сами могли бы реализовать класс \"Неориентированный граф\""
   ]
  },
  {
   "cell_type": "code",
   "execution_count": 9,
   "metadata": {
    "collapsed": true
   },
   "outputs": [],
   "source": [
    "class UndirectedGraph:\n",
    "    def __init__(self):\n",
    "        self.nodes = set()\n",
    "        self.edges = {}\n",
    "        self.distances = {}\n",
    "\n",
    "    def add_node(self, value):\n",
    "        self.nodes.add(value)\n",
    "        self.edges[value] = []\n",
    "        \n",
    "    def add_edge(self, from_node, to_node, distance):\n",
    "        self.edges[from_node].append(to_node)\n",
    "        self.edges[to_node].append(from_node)\n",
    "        self.distances[(from_node, to_node)] = distance\n",
    "        self.distances[(to_node, from_node)] = distance"
   ]
  },
  {
   "cell_type": "markdown",
   "metadata": {},
   "source": [
    "Алгоритм Дейкстры основывается на том простом факте, что что если у нас есть кратчайший путь от **v** до **w**, проходящий через вершину **y**, назовем его $(v \\rightarrow w)^{*}$, то его первая часть от **v** до **y**,\n",
    "$(v \\rightarrow y)^{*}$ тоже будет кратчайшим путем."
   ]
  },
  {
   "cell_type": "markdown",
   "metadata": {},
   "source": [
    "<img src=\"imgs/dijkstra.png\">"
   ]
  },
  {
   "cell_type": "markdown",
   "metadata": {},
   "source": [
    "Задачи с подобными свойствами, когда оптимальное решение можно легко получить из оптимальных решений подзадач, обычно хорошо решаются так называемыми \"жадными алгоритмами\". Алгоритм Дейкстры - как раз один их примеров. Его сложность при использовании min-кучи - $O(|E| + |V|log|V|)$, где |E|, |V| - число дуг и вершин соответственно"
   ]
  },
  {
   "cell_type": "markdown",
   "metadata": {},
   "source": [
    "Описание алгоритма Дейкстры на <a href=\"http://habrahabr.ru/post/111361/\">Хабрахабре</a>."
   ]
  },
  {
   "cell_type": "code",
   "execution_count": 10,
   "metadata": {},
   "outputs": [],
   "source": [
    "def dijsktra(graph, initial):\n",
    "    visited = {initial: 0}\n",
    "    path = {}\n",
    "\n",
    "    nodes = graph.nodes\n",
    "\n",
    "    while nodes: \n",
    "        min_node = None\n",
    "        for node in nodes:\n",
    "            if node in visited:\n",
    "                if min_node is None:\n",
    "                    min_node = node\n",
    "                elif visited[node] < visited[min_node]:\n",
    "                    min_node = node\n",
    "\n",
    "        if min_node is None:\n",
    "            break\n",
    "\n",
    "        nodes.remove(min_node)\n",
    "        current_weight = visited[min_node]\n",
    "\n",
    "        for edge in G.edges[min_node]:\n",
    "            weight = current_weight + graph.distances[(min_node, edge)]\n",
    "            if edge not in visited or weight < visited[edge]:\n",
    "                visited[edge] = weight\n",
    "                path[edge] = min_node\n",
    "\n",
    "    return visited, path"
   ]
  },
  {
   "cell_type": "code",
   "execution_count": 11,
   "metadata": {},
   "outputs": [
    {
     "data": {
      "text/plain": [
       "({1: 0, 2: 4, 3: 6, 4: 14, 5: 7, 6: 6, 7: 11},\n",
       " {2: 1, 3: 1, 4: 2, 5: 1, 6: 1, 7: 3})"
      ]
     },
     "execution_count": 11,
     "metadata": {},
     "output_type": "execute_result"
    }
   ],
   "source": [
    "G = UndirectedGraph()\n",
    "\n",
    "for node in range(1,8):\n",
    "    G.add_node(node)\n",
    "\n",
    "for edge in [(1,7,15),(1,3,6),(1,5,7),\n",
    "            (1,6,6),(1,2,4),(2,4,10),\n",
    "            (3,5,10),(3,7,5),(3,6,5),\n",
    "            (4,7,3),(4,5,15),(5,6,5)]:\n",
    "    G.add_edge(*edge)\n",
    "    \n",
    "# print(G.edges)\n",
    "# print(G.distances)\n",
    "    \n",
    "dijsktra(G, 1)"
   ]
  },
  {
   "cell_type": "code",
   "execution_count": 37,
   "metadata": {},
   "outputs": [
    {
     "name": "stdout",
     "output_type": "stream",
     "text": [
      "Populating the interactive namespace from numpy and matplotlib\n"
     ]
    },
    {
     "name": "stderr",
     "output_type": "stream",
     "text": [
      "WARNING: pylab import has clobbered these variables: ['source']\n",
      "`%matplotlib` prevents importing * from pylab and numpy\n"
     ]
    },
    {
     "data": {
      "image/png": "[encoded data removed]",
      "text/plain": [
       "<matplotlib.figure.Figure at 0x10793e278>"
      ]
     },
     "metadata": {},
     "output_type": "display_data"
    }
   ],
   "source": [
    "%pylab inline\n",
    "figsize(12, 8)\n",
    "\n",
    "import networkx as nx\n",
    "\n",
    "G=nx.Graph()\n",
    "G.add_nodes_from(range(1,8))\n",
    "G.add_weighted_edges_from([(1,7,15),(1,3,6),(1,5,7),\n",
    "                           (1,6,6),(1,2,4),(2,4,10),\n",
    "                           (3,5,10),(3,7,5),(3,6,5),\n",
    "                           (4,7,3),(4,5,15),(5,6,5)])\n",
    "\n",
    "pos = nx.spring_layout(G) # positions for all nodes\n",
    "\n",
    "# nodes and node labels\n",
    "nx.draw_networkx_nodes(G,pos,node_size=700)\n",
    "nx.draw_networkx_labels(G,pos,font_size=20,font_family='sans-serif')\n",
    "\n",
    "# edges\n",
    "edges = [(u,v) for (u,v,d) in G.edges(data=True)]\n",
    "nx.draw_networkx_edges(G, pos, edgelist=edges, font_size=16)\n",
    "\n",
    "# edge labels\n",
    "edge_labels=dict([((u,v,),d['weight'])\n",
    "             for u,v,d in G.edges(data=True)])\n",
    "nx.draw_networkx_edge_labels(G,pos,edge_labels=edge_labels)\n",
    "\n",
    "show() # matplotlib.pyplot.show()"
   ]
  },
  {
   "cell_type": "markdown",
   "metadata": {},
   "source": [
    "<a href=\"http://code.activestate.com/recipes/577892-dijkstra-shortest-path-implementation/\">Реализация</a> с помощью кучи "
   ]
  },
  {
   "cell_type": "code",
   "execution_count": 17,
   "metadata": {},
   "outputs": [],
   "source": [
    "import heapq\n",
    "\n",
    "def dijkstra(adj, costs, s, t):\n",
    "    ''' Return predecessors and min distance if there exists a shortest path \n",
    "        from s to t; Otherwise, return None '''\n",
    "    Q = []     # priority queue of items; note item is mutable.\n",
    "    d = {s: 0} # vertex -> minimal distance\n",
    "    Qd = {}    # vertex -> [d[v], parent_v, v]\n",
    "    p = {}     # predecessor\n",
    "    visited_set = set([s])\n",
    "\n",
    "    for v in adj.get(s, []):\n",
    "        d[v] = costs[s, v]\n",
    "        item = [d[v], s, v]\n",
    "        heapq.heappush(Q, item)\n",
    "        Qd[v] = item\n",
    "\n",
    "    while Q:\n",
    "#         print(Q)\n",
    "        cost, parent, u = heapq.heappop(Q)\n",
    "        if u not in visited_set:\n",
    "#             print('visit:', u)\n",
    "            p[u]= parent\n",
    "            visited_set.add(u)\n",
    "            if u == t:\n",
    "                return p, d[u]\n",
    "            for v in adj.get(u, []):\n",
    "                if d.get(v):\n",
    "                    if d[v] > costs[u, v] + d[u]:\n",
    "                        d[v] =  costs[u, v] + d[u]\n",
    "                        Qd[v][0] = d[v]    # decrease key\n",
    "                        Qd[v][1] = u       # update predecessor\n",
    "                        heapq._siftdown(Q, 0, Q.index(Qd[v]))\n",
    "                else:\n",
    "                    d[v] = costs[u, v] + d[u]\n",
    "                    item = [d[v], u, v]\n",
    "                    heapq.heappush(Q, item)\n",
    "                    Qd[v] = item\n",
    "\n",
    "    return None\n",
    "\n",
    "def make_undirected(cost):\n",
    "    ucost = {}\n",
    "    for k, w in cost.items():\n",
    "        ucost[k] = w\n",
    "        ucost[(k[1],k[0])] = w\n",
    "    return ucost"
   ]
  },
  {
   "cell_type": "code",
   "execution_count": 36,
   "metadata": {},
   "outputs": [
    {
     "name": "stdout",
     "output_type": "stream",
     "text": [
      "Minimal cost from 1 to 7: 11\n",
      "shortest path from 1 to 7: [1, 3, 7]\n"
     ]
    }
   ],
   "source": [
    "# adjacent list\n",
    "adj = { 1: [2, 3, 5, 7],\n",
    "        2: [1, 4],\n",
    "        3: [1, 5, 6,7],\n",
    "        4: [2, 5, 7],\n",
    "        5: [1, 3, 4, 6],\n",
    "        6: [3, 5],\n",
    "        7: [1, 3, 4]}\n",
    "    \n",
    "# edge costs\n",
    "edges = {(1, 2): 4, (4, 7): 3, (1, 3): 6, (4, 5): 15,\n",
    "        (1, 5): 7, (1, 6): 6, (3, 6): 5, (1, 7): 15, \n",
    "        (5, 6): 5, (3, 7): 5, (2, 4): 10, (3, 5): 10}\n",
    "\n",
    "edge_cost = make_undirected(edges)\n",
    "\n",
    "source, target = 1, 7\n",
    "predecessors, min_cost = dijkstra(adj, edge_cost, source, target)\n",
    "c = target\n",
    "path = [c]\n",
    "print('Minimal cost from {0} to {1}: {2}'.format(source, target, min_cost))\n",
    "while predecessors.get(c):\n",
    "    path.insert(0, predecessors[c])\n",
    "    c = predecessors[c]\n",
    "\n",
    "print('shortest path from {0} to {1}: {2}'.format(source, target, path))"
   ]
  },
  {
   "cell_type": "markdown",
   "metadata": {},
   "source": [
    "### Нахождение кратчайших путей с помощью методов библиотеки Networkx"
   ]
  },
  {
   "cell_type": "code",
   "execution_count": 20,
   "metadata": {},
   "outputs": [
    {
     "name": "stdout",
     "output_type": "stream",
     "text": [
      "Help on function single_source_dijkstra in module networkx.algorithms.shortest_paths.weighted:\n",
      "\n",
      "single_source_dijkstra(G, source, target=None, cutoff=None, weight='weight')\n",
      "    Compute shortest paths and lengths in a weighted graph G.\n",
      "    \n",
      "    Uses Dijkstra's algorithm for shortest paths.\n",
      "    \n",
      "    Parameters\n",
      "    ----------\n",
      "    G : NetworkX graph\n",
      "    \n",
      "    source : node label\n",
      "       Starting node for path\n",
      "    \n",
      "    target : node label, optional\n",
      "       Ending node for path\n",
      "    \n",
      "    cutoff : integer or float, optional\n",
      "       Depth to stop the search. Only paths of length <= cutoff are returned.\n",
      "    \n",
      "    Returns\n",
      "    -------\n",
      "    distance,path : dictionaries\n",
      "       Returns a tuple of two dictionaries keyed by node.\n",
      "       The first dictionary stores distance from the source.\n",
      "       The second stores the path from the source to that node.\n",
      "    \n",
      "    \n",
      "    Examples\n",
      "    --------\n",
      "    >>> G=nx.path_graph(5)\n",
      "    >>> length,path=nx.single_source_dijkstra(G,0)\n",
      "    >>> print(length[4])\n",
      "    4\n",
      "    >>> print(length)\n",
      "    {0: 0, 1: 1, 2: 2, 3: 3, 4: 4}\n",
      "    >>> path[4]\n",
      "    [0, 1, 2, 3, 4]\n",
      "    \n",
      "    Notes\n",
      "    ---------\n",
      "    Edge weight attributes must be numerical.\n",
      "    Distances are calculated as sums of weighted edges traversed.\n",
      "    \n",
      "    Based on the Python cookbook recipe (119466) at\n",
      "    http://aspn.activestate.com/ASPN/Cookbook/Python/Recipe/119466\n",
      "    \n",
      "    This algorithm is not guaranteed to work if edge weights\n",
      "    are negative or are floating point numbers\n",
      "    (overflows and roundoff errors can cause problems).\n",
      "    \n",
      "    See Also\n",
      "    --------\n",
      "    single_source_dijkstra_path()\n",
      "    single_source_dijkstra_path_length()\n",
      "\n"
     ]
    }
   ],
   "source": [
    "help(nx.single_source_dijkstra)"
   ]
  },
  {
   "cell_type": "code",
   "execution_count": 21,
   "metadata": {},
   "outputs": [
    {
     "data": {
      "text/plain": [
       "({1: 0, 2: 4, 3: 6, 4: 14, 5: 7, 6: 6, 7: 11},\n",
       " {1: [1],\n",
       "  2: [1, 2],\n",
       "  3: [1, 3],\n",
       "  4: [1, 2, 4],\n",
       "  5: [1, 5],\n",
       "  6: [1, 6],\n",
       "  7: [1, 3, 7]})"
      ]
     },
     "execution_count": 21,
     "metadata": {},
     "output_type": "execute_result"
    }
   ],
   "source": [
    "nx.single_source_dijkstra(G, source=1)"
   ]
  },
  {
   "cell_type": "code",
   "execution_count": 22,
   "metadata": {},
   "outputs": [
    {
     "data": {
      "text/plain": [
       "[1, 2, 4]"
      ]
     },
     "execution_count": 22,
     "metadata": {},
     "output_type": "execute_result"
    }
   ],
   "source": [
    "nx.dijkstra_path(G,1,4)"
   ]
  },
  {
   "cell_type": "markdown",
   "metadata": {},
   "source": [
    "Реализация алгоритма Беллмана-Форда. Его сложность $O(|V||E|)$ (хуже, чем у алгоритма Дейкстры), зато можно работать с отрицательными весами."
   ]
  },
  {
   "cell_type": "code",
   "execution_count": 23,
   "metadata": {},
   "outputs": [
    {
     "name": "stdout",
     "output_type": "stream",
     "text": [
      "Help on function bellman_ford in module networkx.algorithms.shortest_paths.weighted:\n",
      "\n",
      "bellman_ford(G, source, weight='weight')\n",
      "    Compute shortest path lengths and predecessors on shortest paths\n",
      "    in weighted graphs.\n",
      "    \n",
      "    The algorithm has a running time of O(mn) where n is the number of\n",
      "    nodes and m is the number of edges.  It is slower than Dijkstra but\n",
      "    can handle negative edge weights.\n",
      "    \n",
      "    Parameters\n",
      "    ----------\n",
      "    G : NetworkX graph\n",
      "       The algorithm works for all types of graphs, including directed\n",
      "       graphs and multigraphs.\n",
      "    \n",
      "    source: node label\n",
      "       Starting node for path\n",
      "    \n",
      "    weight: string, optional (default='weight')\n",
      "       Edge data key corresponding to the edge weight\n",
      "    \n",
      "    Returns\n",
      "    -------\n",
      "    pred, dist : dictionaries\n",
      "       Returns two dictionaries keyed by node to predecessor in the\n",
      "       path and to the distance from the source respectively.\n",
      "    \n",
      "    Raises\n",
      "    ------\n",
      "    NetworkXUnbounded\n",
      "       If the (di)graph contains a negative cost (di)cycle, the\n",
      "       algorithm raises an exception to indicate the presence of the\n",
      "       negative cost (di)cycle.  Note: any negative weight edge in an\n",
      "       undirected graph is a negative cost cycle.\n",
      "    \n",
      "    Examples\n",
      "    --------\n",
      "    >>> import networkx as nx\n",
      "    >>> G = nx.path_graph(5, create_using = nx.DiGraph())\n",
      "    >>> pred, dist = nx.bellman_ford(G, 0)\n",
      "    >>> sorted(pred.items())\n",
      "    [(0, None), (1, 0), (2, 1), (3, 2), (4, 3)]\n",
      "    >>> sorted(dist.items())\n",
      "    [(0, 0), (1, 1), (2, 2), (3, 3), (4, 4)]\n",
      "    \n",
      "    >>> from nose.tools import assert_raises\n",
      "    >>> G = nx.cycle_graph(5, create_using = nx.DiGraph())\n",
      "    >>> G[1][2]['weight'] = -7\n",
      "    >>> assert_raises(nx.NetworkXUnbounded, nx.bellman_ford, G, 0)\n",
      "    \n",
      "    Notes\n",
      "    -----\n",
      "    Edge weight attributes must be numerical.\n",
      "    Distances are calculated as sums of weighted edges traversed.\n",
      "    \n",
      "    The dictionaries returned only have keys for nodes reachable from\n",
      "    the source.\n",
      "    \n",
      "    In the case where the (di)graph is not connected, if a component\n",
      "    not containing the source contains a negative cost (di)cycle, it\n",
      "    will not be detected.\n",
      "\n"
     ]
    }
   ],
   "source": [
    "help(nx.bellman_ford)"
   ]
  },
  {
   "cell_type": "code",
   "execution_count": 24,
   "metadata": {},
   "outputs": [
    {
     "name": "stdout",
     "output_type": "stream",
     "text": [
      "{1: None, 2: 1, 3: 1, 4: 2, 5: 1, 6: 1, 7: 3}\n",
      "{1: 0, 2: 4, 3: 6, 4: 14, 5: 7, 6: 6, 7: 11}\n"
     ]
    }
   ],
   "source": [
    "pred, dist = nx.bellman_ford(G, 1)\n",
    "print(pred)\n",
    "print(dist)"
   ]
  },
  {
   "cell_type": "markdown",
   "metadata": {},
   "source": [
    "### Задача коммивояжера"
   ]
  },
  {
   "cell_type": "markdown",
   "metadata": {},
   "source": [
    "Заданы неориентированный граф из n вершин-городов, и $d_{ij} = d(v_i, v_j)$ — положительные целые расстояния между городами.\n",
    "Чему равна наименьшая возможная длина гамильтонова цикла (кольцевого маршрута, проходя-\n",
    "щего по одному разу через все города)?\n",
    "То есть нужно найти $$min \\sum_{i=1}^{n-1}d_{p_i,p_{i+1}} + d_{p_n,p_1},$$ \n",
    "где минимум берется по всем перестановкам p чисел $1, \\ldots, n$"
   ]
  },
  {
   "cell_type": "code",
   "execution_count": 25,
   "metadata": {},
   "outputs": [],
   "source": [
    "from itertools import permutations\n",
    "\n",
    "INFINITY = pow(10, 20)\n",
    "\n",
    "def TSP_BruteForce(G, init_node_index):\n",
    "    def get_path_length(path):\n",
    "        path_length = 0\n",
    "        for i, v1 in enumerate(path):\n",
    "            v2 = path[ (i+1) % len(path)]\n",
    "            if not G.has_edge(v1, v2):\n",
    "                return INFINITY\n",
    "            path_length += G[v1][v2][\"weight\"]\n",
    "        return path_length\n",
    "    \n",
    "    def node_permutations(G, init_node_index):\n",
    "        nodes = G.nodes()\n",
    "        init_node = nodes[init_node_index]\n",
    "        nodes.remove(init_node)\n",
    "        return [[init_node] + list(a_tuple) \n",
    "                 for a_tuple in permutations(nodes)]\n",
    "    \n",
    "    min_path = min_path_length = None\n",
    "    # перебор всех перестановок с фиксированным первым узлом\n",
    "    for path in node_permutations(G, init_node_index):\n",
    "        path_length = get_path_length(path)\n",
    "        if not min_path or min_path_length > path_length:\n",
    "            min_path, min_path_length = path, path_length\n",
    "    return min_path, min_path_length"
   ]
  },
  {
   "cell_type": "code",
   "execution_count": 26,
   "metadata": {},
   "outputs": [
    {
     "name": "stdout",
     "output_type": "stream",
     "text": [
      "Populating the interactive namespace from numpy and matplotlib\n"
     ]
    },
    {
     "name": "stderr",
     "output_type": "stream",
     "text": [
      "WARNING: pylab import has clobbered these variables: ['source', 'dist']\n",
      "`%matplotlib` prevents importing * from pylab and numpy\n"
     ]
    },
    {
     "data": {
      "image/png": "[encoded data removed]",
      "text/plain": [
       "<matplotlib.figure.Figure at 0x10779b6d8>"
      ]
     },
     "metadata": {},
     "output_type": "display_data"
    }
   ],
   "source": [
    "%pylab inline\n",
    "figsize(12, 8)\n",
    "\n",
    "import networkx as nx\n",
    "\n",
    "G=nx.Graph()\n",
    "G.add_nodes_from(range(1,8))\n",
    "G.add_weighted_edges_from([(1,7,15),(1,3,6),(1,5,7),\n",
    "                           (1,6,6),(1,2,4),(2,4,10),\n",
    "                           (3,5,10),(3,7,5),(3,6,5),\n",
    "                           (4,7,3),(4,5,15),(5,6,5)])\n",
    "\n",
    "pos = nx.spring_layout(G) # positions for all nodes\n",
    "\n",
    "# nodes and node labels\n",
    "nx.draw_networkx_nodes(G,pos,node_size=700)\n",
    "nx.draw_networkx_labels(G,pos,font_size=20,font_family='sans-serif')\n",
    "\n",
    "# edges\n",
    "edges = [(u,v) for (u,v,d) in G.edges(data=True)]\n",
    "nx.draw_networkx_edges(G, pos, edgelist=edges, font_size=16)\n",
    "\n",
    "# edge labels\n",
    "edge_labels=dict([((u,v,),d['weight'])\n",
    "             for u,v,d in G.edges(data=True)])\n",
    "nx.draw_networkx_edge_labels(G,pos,edge_labels=edge_labels)\n",
    "\n",
    "show() # matplotlib.pyplot.show()"
   ]
  },
  {
   "cell_type": "markdown",
   "metadata": {},
   "source": [
    "Гамильтонов цикл с минимальной суммой весов ребер"
   ]
  },
  {
   "cell_type": "code",
   "execution_count": 38,
   "metadata": {},
   "outputs": [
    {
     "data": {
      "text/plain": [
       "'Оптимальный маршрут: [1, 2, 4, 7, 3, 6, 5]. Его стоимость = 39'"
      ]
     },
     "execution_count": 38,
     "metadata": {},
     "output_type": "execute_result"
    }
   ],
   "source": [
    "\"Оптимальный маршрут: {0}. Его стоимость = {1}\".format(*TSP_BruteForce(G, 0))"
   ]
  },
  {
   "cell_type": "markdown",
   "metadata": {},
   "source": [
    "## Поиск в глубину\n",
    "Поиск в глубину (англ. Depth-first search, DFS) — один из методов обхода графа. Стратегия поиска в глубину, как и следует из названия, состоит в том, чтобы идти \"вглубь\" графа, насколько это возможно. Алгоритм поиска описывается рекурсивно: перебираем все исходящие из рассматриваемой вершины рёбра. Если ребро ведёт в вершину, которая не была рассмотрена ранее, то запускаем алгоритм от этой нерассмотренной вершины, а после возвращаемся и продолжаем перебирать рёбра. Возврат происходит в том случае, если в рассматриваемой вершине не осталось рёбер, которые ведут в нерассмотренную вершину. Если после завершения алгоритма не все вершины были рассмотрены, то необходимо запустить алгоритм от одной из нерассмотренных вершин."
   ]
  },
  {
   "cell_type": "markdown",
   "metadata": {},
   "source": [
    "Рассмотрим на примере следующего неориентированного невзвешенного графа"
   ]
  },
  {
   "cell_type": "code",
   "execution_count": 5,
   "metadata": {},
   "outputs": [
    {
     "name": "stdout",
     "output_type": "stream",
     "text": [
      "Populating the interactive namespace from numpy and matplotlib\n"
     ]
    },
    {
     "data": {
      "image/png": "[encoded data removed]",
      "text/plain": [
       "<matplotlib.figure.Figure at 0x104b90fd0>"
      ]
     },
     "metadata": {},
     "output_type": "display_data"
    }
   ],
   "source": [
    "%pylab inline\n",
    "figsize(12, 8)\n",
    "\n",
    "import networkx as nx\n",
    "\n",
    "G=nx.Graph()\n",
    "G.add_nodes_from(['A', 'B', 'C', 'D', 'E', 'F'])\n",
    "G.add_edges_from([('A','B'),('A','C'),('B','D'),\n",
    "                    ('B','E'),('C','F'), ('E','F')])\n",
    "\n",
    "pos = nx.spring_layout(G) # positions for all nodes\n",
    "\n",
    "# nodes and node labels\n",
    "nx.draw_networkx_nodes(G, pos, node_size=700)\n",
    "nx.draw_networkx_labels(G,pos,font_size=20,font_family='sans-serif')\n",
    "\n",
    "nx.draw_networkx_edges(G, pos, edgelist=G.edges(), font_size=16)\n",
    "\n",
    "show() # matplotlib.pyplot.show()"
   ]
  },
  {
   "cell_type": "code",
   "execution_count": 9,
   "metadata": {
    "collapsed": true
   },
   "outputs": [],
   "source": [
    "def dfs(graph, start, visited=None):\n",
    "    if visited is None:\n",
    "        visited = set()\n",
    "    visited.add(start)\n",
    "    # adjacent to start - graph.adj[start].keys()\n",
    "    for next in set(graph.adj[start].keys()) - visited:\n",
    "        dfs(graph, next, visited)\n",
    "    return visited"
   ]
  },
  {
   "cell_type": "code",
   "execution_count": 10,
   "metadata": {},
   "outputs": [
    {
     "data": {
      "text/plain": [
       "{'A', 'B', 'C', 'D', 'E', 'F'}"
      ]
     },
     "execution_count": 10,
     "metadata": {},
     "output_type": "execute_result"
    }
   ],
   "source": [
    "dfs(G, 'C')"
   ]
  },
  {
   "cell_type": "code",
   "execution_count": 31,
   "metadata": {
    "collapsed": true
   },
   "outputs": [],
   "source": [
    "def dfs_paths(graph, start, goal, path=None):\n",
    "    if path is None:\n",
    "        path = [start]\n",
    "    if start == goal:\n",
    "        yield path\n",
    "    for next in set(graph.adj[start].keys()) - set(path):\n",
    "        yield from dfs_paths(graph, next, goal, path + [next])"
   ]
  },
  {
   "cell_type": "code",
   "execution_count": 32,
   "metadata": {},
   "outputs": [
    {
     "data": {
      "text/plain": [
       "[['C', 'F'], ['C', 'A', 'B', 'E', 'F']]"
      ]
     },
     "execution_count": 32,
     "metadata": {},
     "output_type": "execute_result"
    }
   ],
   "source": [
    "list(dfs_paths(G, 'C', 'F'))"
   ]
  },
  {
   "cell_type": "markdown",
   "metadata": {},
   "source": [
    "## Поиск в ширину\n",
    "Поиск в ширину (англ. breadth-first search, BFS) — метод обхода графа и поиска пути в графе.\n",
    "Поиск в ширину работает путём последовательного просмотра отдельных уровней графа, начиная с узла-источника $u$.\n",
    "\n",
    "Рассмотрим все рёбра $(u,v)$, выходящие из узла $u$. Если очередной узел $v$ является целевым узлом, то поиск завершается; в противном случае узел $v$ добавляется в очередь. После того, как будут проверены все рёбра, выходящие из узла $u$, из очереди извлекается следующий узел $u$, и процесс повторяется."
   ]
  },
  {
   "cell_type": "code",
   "execution_count": 33,
   "metadata": {
    "collapsed": true
   },
   "outputs": [],
   "source": [
    "def bfs_paths(graph, start, goal):\n",
    "    queue = [(start, [start])]\n",
    "    while queue:\n",
    "        (vertex, path) = queue.pop(0)\n",
    "        for next in set(graph.adj[vertex].keys()) - set(path):\n",
    "            if next == goal:\n",
    "                yield path + [next]\n",
    "            else:\n",
    "                queue.append((next, path + [next]))"
   ]
  },
  {
   "cell_type": "code",
   "execution_count": 35,
   "metadata": {},
   "outputs": [
    {
     "data": {
      "text/plain": [
       "[['A', 'C', 'F'], ['A', 'B', 'E', 'F']]"
      ]
     },
     "execution_count": 35,
     "metadata": {},
     "output_type": "execute_result"
    }
   ],
   "source": [
    "list(bfs_paths(G, 'A', 'F'))"
   ]
  },
  {
   "cell_type": "markdown",
   "metadata": {},
   "source": [
    "## Ссылки\n",
    "- Описание алгоритмов <a href=\"https://ru.wikipedia.org/wiki/%D0%90%D0%BB%D0%B3%D0%BE%D1%80%D0%B8%D1%82%D0%BC_%D0%94%D0%B5%D0%B9%D0%BA%D1%81%D1%82%D1%80%D1%8B\">Дейкстры</a>, <a href=\"https://ru.wikipedia.org/wiki/%D0%90%D0%BB%D0%B3%D0%BE%D1%80%D0%B8%D1%82%D0%BC_%D0%A4%D0%BB%D0%BE%D0%B9%D0%B4%D0%B0_%E2%80%94_%D0%A3%D0%BE%D1%80%D1%88%D0%B5%D0%BB%D0%BB%D0%B0\">Флойда-Уоршелла</a> и <a href=\"https://ru.wikipedia.org/wiki/%D0%90%D0%BB%D0%B3%D0%BE%D1%80%D0%B8%D1%82%D0%BC_%D0%91%D0%B5%D0%BB%D0%BB%D0%BC%D0%B0%D0%BD%D0%B0_%E2%80%94_%D0%A4%D0%BE%D1%80%D0%B4%D0%B0\">Беллмана-Форда</a> на Википедии\n",
    "- <a href=\"https://class.coursera.org/algo-003/lecture/57\">Видео</a> с описанием алгоритма Дейкстры на Coursera\n",
    "- Алгоритм Прима - <a href=\"http://neerc.ifmo.ru/wiki/index.php?title=%D0%90%D0%BB%D0%B3%D0%BE%D1%80%D0%B8%D1%82%D0%BC_%D0%9F%D1%80%D0%B8%D0%BC%D0%B0\">конспект</a> Университета ИТМО\n",
    "- <a href=\"https://yadi.sk/i/cT6ikxLqjVy2r\">Книга</a> \"Эффективные алгоритмы и сложность вычислений\" с примерами на языке Python (Фомин, Кузюрин, 2011)\n",
    "- Про <a href=\"https://ru.wikibooks.org/wiki/%D0%A0%D0%B5%D0%B0%D0%BB%D0%B8%D0%B7%D0%B0%D1%86%D0%B8%D0%B8_%D0%B0%D0%BB%D0%B3%D0%BE%D1%80%D0%B8%D1%82%D0%BC%D0%BE%D0%B2/%D0%9F%D0%BE%D0%B8%D1%81%D0%BA_%D0%B2_%D0%B3%D0%BB%D1%83%D0%B1%D0%B8%D0%BD%D1%83\">поиск в глубину</a> и <a href=\"https://ru.wikibooks.org/wiki/%D0%A0%D0%B5%D0%B0%D0%BB%D0%B8%D0%B7%D0%B0%D1%86%D0%B8%D0%B8_%D0%B0%D0%BB%D0%B3%D0%BE%D1%80%D0%B8%D1%82%D0%BC%D0%BE%D0%B2/%D0%9F%D0%BE%D0%B8%D1%81%D0%BA_%D0%B2_%D1%88%D0%B8%D1%80%D0%B8%D0%BD%D1%83\">поиск в ширину</a> на Wikibooks\n",
    "- Поиск в глубину на <a href=\"http://habrahabr.ru/post/200074/\">Хабрахабре</a> на примере лабиринта \n",
    "- Поиск в ширину на <a href=\"http://habrahabr.ru/post/200252/\">Хабрахабре</a>"
   ]
  }
 ],
 "metadata": {
  "kernelspec": {
   "display_name": "Python 3",
   "language": "python",
   "name": "python3"
  },
  "language_info": {
   "codemirror_mode": {
    "name": "ipython",
    "version": 3
   },
   "file_extension": ".py",
   "mimetype": "text/x-python",
   "name": "python",
   "nbconvert_exporter": "python",
   "pygments_lexer": "ipython3",
   "version": "3.6.3"
  },
  "toc": {
   "nav_menu": {},
   "number_sections": true,
   "sideBar": true,
   "skip_h1_title": false,
   "title_cell": "Table of Contents",
   "title_sidebar": "Contents",
   "toc_cell": false,
   "toc_position": {},
   "toc_section_display": true,
   "toc_window_display": false
  }
 },
 "nbformat": 4,
 "nbformat_minor": 1
}
