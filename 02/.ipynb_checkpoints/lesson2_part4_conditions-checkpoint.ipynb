{
 "cells": [
  {
   "cell_type": "markdown",
   "metadata": {},
   "source": [
    "<img src=\"../imgs/python.png\" align=\"left\" height=\"140\" width=\"140\"><img src=\"../imgs/mts.jpeg\" align=\"right\" height=\"140\" width=\"140\"><center><h1> Python for Data Analysis MTSBank</h1><h2>Структуры данных/Алгоритмы</h2></center>"
   ]
  },
  {
   "cell_type": "markdown",
   "metadata": {},
   "source": [
    "# Урок 2. Основы языка Python"
   ]
  },
  {
   "cell_type": "markdown",
   "metadata": {},
   "source": [
    "## Часть 4. Переменные типа Bool. Условный оператор"
   ]
  },
  {
   "cell_type": "code",
   "execution_count": null,
   "metadata": {
    "collapsed": true
   },
   "outputs": [],
   "source": [
    "# Python 2 and 3 compatibility\n",
    "# pip install future\n",
    "from __future__ import (absolute_import, division,\n",
    "                        print_function, unicode_literals)\n",
    "from builtins import *"
   ]
  },
  {
   "cell_type": "markdown",
   "metadata": {},
   "source": [
    "#### Для управления логикой программы нужен еще один тип переменной - bool. Переменная типа bool имеет всего два значения - True и False."
   ]
  },
  {
   "cell_type": "code",
   "execution_count": 4,
   "metadata": {},
   "outputs": [
    {
     "name": "stdout",
     "output_type": "stream",
     "text": [
      "<class 'bool'>\n",
      "False\n",
      "<class 'bool'>\n",
      "True\n",
      "<class 'bool'>\n"
     ]
    }
   ],
   "source": [
    "is_connected = True\n",
    "print(type(is_connected))\n",
    "\n",
    "a, b = 5, 6\n",
    "a_greater_b = a > b\n",
    "print(a_greater_b)\n",
    "print(type(a_greater_b))\n",
    "\n",
    "c = bool(1)\n",
    "print(c)\n",
    "print(type(c))"
   ]
  },
  {
   "cell_type": "markdown",
   "metadata": {},
   "source": [
    "#### В простейшем виде условная инструкция в Питоне имеет следующий синтаксис:\n",
    "\n",
    "if Условие:\n",
    "   \n",
    "    Блок инструкций 1\n",
    "\n",
    "else:\n",
    "   \n",
    "    Блок инструкций 2"
   ]
  },
  {
   "cell_type": "markdown",
   "metadata": {},
   "source": [
    "#### Пример \n",
    "Если число делится на 7, напечатать это число и строку \"YES\", в противном случае - \"NO\""
   ]
  },
  {
   "cell_type": "code",
   "execution_count": 9,
   "metadata": {},
   "outputs": [
    {
     "name": "stdout",
     "output_type": "stream",
     "text": [
      "Insert a number: 45\n",
      "NO\n"
     ]
    }
   ],
   "source": [
    "a = int(input(\"Insert a number: \"))\n",
    "if a % 7 == 0:\n",
    "    print(a)\n",
    "    print(\"YES\")\n",
    "else:\n",
    "    print(\"NO\")"
   ]
  },
  {
   "cell_type": "markdown",
   "metadata": {},
   "source": [
    "#### Если в каждом блоке всего по одной инструкции, можно использовать сокращенный синтаксис:\n",
    "\n",
    "Инструкция 1 if Условие else Инструкция 2"
   ]
  },
  {
   "cell_type": "code",
   "execution_count": 13,
   "metadata": {},
   "outputs": [
    {
     "name": "stdout",
     "output_type": "stream",
     "text": [
      "0.07\n"
     ]
    }
   ],
   "source": [
    "has_debts = True\n",
    "comission = 0.07 if has_debts else 0.05\n",
    "print(comission)"
   ]
  },
  {
   "cell_type": "markdown",
   "metadata": {},
   "source": [
    "#### Пример \n",
    "Написать, что число четное или нечетное"
   ]
  },
  {
   "cell_type": "code",
   "execution_count": 12,
   "metadata": {},
   "outputs": [
    {
     "name": "stdout",
     "output_type": "stream",
     "text": [
      "Insert a number: 34\n",
      "34 is even\n"
     ]
    }
   ],
   "source": [
    "a = int(input(\"Insert a number: \"))\n",
    "print(str(a) + \" is \" + (\"even\" if a % 2 == 0 else \"odd\"))"
   ]
  },
  {
   "cell_type": "markdown",
   "metadata": {},
   "source": [
    "#### Условные конструкции могут быть вложенными. \n",
    "\n",
    "if Условие1:\n",
    "    \n",
    "    if Условие2:\n",
    "    \n",
    "        Блок инструкций 1\n",
    "        \n",
    "        ...\n",
    "        \n",
    "    else:\n",
    "    \n",
    "        Блок инструкций 2\n",
    "        \n",
    "else:\n",
    "   \n",
    "    Блок инструкций 3"
   ]
  },
  {
   "cell_type": "markdown",
   "metadata": {},
   "source": [
    "#### Пример\n",
    "Определить, в какой четверти находится точка, по ее координатам *(x, y)*"
   ]
  },
  {
   "cell_type": "code",
   "execution_count": 10,
   "metadata": {},
   "outputs": [
    {
     "name": "stdout",
     "output_type": "stream",
     "text": [
      "Введите x: 43\n",
      "Введите y: 56\n",
      "Первая четверть\n"
     ]
    }
   ],
   "source": [
    "x = int(input(\"Введите x: \"))\n",
    "y = int(input(\"Введите y: \"))\n",
    "if x > 0:\n",
    "    if y > 0:               # x>0, y>0\n",
    "        print(\"Первая четверть\")\n",
    "    else:                   # x>0, y<0\n",
    "        print(\"Четвертая четверть\")\n",
    "else:\n",
    "    if y > 0:               # x<0, y>0\n",
    "        print(\"Вторая четверть\")\n",
    "    else:                   # x<0, y<0\n",
    "        print(\"Третья четверть\")"
   ]
  },
  {
   "cell_type": "markdown",
   "metadata": {},
   "source": [
    "#### Однако, не стоит злоупотреблять вложением конструкций. Если их слишком много вложенных друг в друга, читаемость кода сильно страдает (\"спагетти-код\") и разобраться в нем сложнее"
   ]
  },
  {
   "cell_type": "markdown",
   "metadata": {},
   "source": [
    "#### Блок *if-elif-else* (каскадная конструкция)\n",
    "if Условие 1:\n",
    "   \n",
    "    Блок инструкций 1\n",
    "\n",
    "elif Условие 2:\n",
    "\n",
    "    Блок инструкций 2\n",
    "    \n",
    "...\n",
    "\n",
    "elif Условие n:\n",
    "\n",
    "    Блок инструкций n\n",
    "    \n",
    "else:\n",
    "   \n",
    "    Блок инструкций n+1"
   ]
  },
  {
   "cell_type": "code",
   "execution_count": 19,
   "metadata": {},
   "outputs": [
    {
     "name": "stdout",
     "output_type": "stream",
     "text": [
      "Введите x: 3\n",
      "Введите y: 4\n",
      "Первая четверть\n"
     ]
    }
   ],
   "source": [
    "x = input(\"Введите x: \")\n",
    "y = input(\"Введите y: \")\n",
    "if x > 0 and y > 0:\n",
    "    print(\"Первая четверть\")\n",
    "elif x > 0 and y < 0:\n",
    "    print(\"Четвертая четверть\")\n",
    "elif y > 0:\n",
    "    print(\"Вторая четверть\")\n",
    "else:\n",
    "    print(\"Третья четверть\")"
   ]
  },
  {
   "cell_type": "markdown",
   "metadata": {},
   "source": [
    "#### Задача [\"Високосный год\"](http://informatics.mccme.ru/mod/statements/view.php?id=8448#1)\n",
    "Требуется определить, является ли данный год високосным. (Напомним, что год является високосным, если его номер кратен 4, но не кратен 100, а также если он кратен 400.)\n",
    "\n",
    "Входные данные:\n",
    "Вводится единственное число - номер года (целое, положительное, не превышает 30000).\n",
    "\n",
    "Выходные данные:\n",
    "Требуется вывести слово YES, если год является високосным и NO - в противном случае.\n",
    "#### Решение\n",
    "Пока не используем функции и обработку исключений"
   ]
  },
  {
   "cell_type": "code",
   "execution_count": 33,
   "metadata": {},
   "outputs": [
    {
     "name": "stdout",
     "output_type": "stream",
     "text": [
      "Insert year and press Enter:23\n",
      "NO\n"
     ]
    }
   ],
   "source": [
    "year = input(\"Insert year and press Enter:\")\n",
    "\n",
    "if year > 30000:\n",
    "    print \"Year should be <= 30000\"\n",
    "    year = input(\"Insert year and press Enter:\")\n",
    "    \n",
    "if (year % 4 == 0 and year % 100 != 0) or (year % 400 == 0):\n",
    "    print(\"YES\")\n",
    "else:\n",
    "    print(\"NO\")"
   ]
  }
 ],
 "metadata": {
  "kernelspec": {
   "display_name": "Python 3",
   "language": "python",
   "name": "python3"
  },
  "language_info": {
   "codemirror_mode": {
    "name": "ipython",
    "version": 3
   },
   "file_extension": ".py",
   "mimetype": "text/x-python",
   "name": "python",
   "nbconvert_exporter": "python",
   "pygments_lexer": "ipython3",
   "version": "3.6.3"
  },
  "name": "seminar2_part1_variables_strings_numbers.ipynb",
  "toc": {
   "nav_menu": {},
   "number_sections": true,
   "sideBar": true,
   "skip_h1_title": false,
   "title_cell": "Table of Contents",
   "title_sidebar": "Contents",
   "toc_cell": false,
   "toc_position": {},
   "toc_section_display": true,
   "toc_window_display": false
  }
 },
 "nbformat": 4,
 "nbformat_minor": 1
}
