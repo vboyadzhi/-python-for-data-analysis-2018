{
 "cells": [
  {
   "cell_type": "markdown",
   "metadata": {},
   "source": [
    "<img src=\"../imgs/python.png\" align=\"left\" height=\"140\" width=\"140\"><img src=\"../imgs/mts.jpeg\" align=\"right\" height=\"140\" width=\"140\"><center><h1> Python for Data Analysis MTSBank</h1><h2>Структуры данных/Алгоритмы</h2></center>"
   ]
  },
  {
   "cell_type": "markdown",
   "metadata": {},
   "source": [
    "## Часть 2. Алгоритм бинарного поиска в списке и сортировка списков"
   ]
  },
  {
   "cell_type": "code",
   "execution_count": 1,
   "metadata": {
    "collapsed": true
   },
   "outputs": [],
   "source": [
    "# Python 2 and 3 compatibility\n",
    "# pip install future\n",
    "from __future__ import (absolute_import, division,\n",
    "                        print_function, unicode_literals)\n",
    "from builtins import *"
   ]
  },
  {
   "cell_type": "markdown",
   "metadata": {
    "collapsed": true
   },
   "source": [
    "## Бинарный поиск\n",
    "Классический алгоритм поиска элемента в отсортированном списке, использующий дробление массива на половины. \n",
    "Продемонстрируем версию для отсортированных списков без повторяющихся элементов. Сложность алгоритма - O(log(n)), где n - длина списка на входе"
   ]
  },
  {
   "cell_type": "code",
   "execution_count": 103,
   "metadata": {},
   "outputs": [],
   "source": [
    "def binfind(a_list, x, left, right):\n",
    "    if left > right or len(a_list) == 0:\n",
    "        return -1\n",
    "    middle = (left + right) // 2\n",
    "    if a_list[middle] == x:\n",
    "        return middle\n",
    "    elif (a_list[middle] < x):\n",
    "        return binfind(a_list, x, middle + 1, right)\n",
    "    else:       # a_list[middle] > x\n",
    "        return binfind(a_list, x, left, middle - 1)"
   ]
  },
  {
   "cell_type": "code",
   "execution_count": 98,
   "metadata": {},
   "outputs": [
    {
     "name": "stdout",
     "output_type": "stream",
     "text": [
      "Elem: 6, Index: 0\n",
      "Elem: 7, Index: 1\n",
      "Elem: 8, Index: 2\n",
      "Elem: 9, Index: 3\n",
      "Elem: 10, Index: 4\n",
      "Elem: 11, Index: 5\n",
      "Elem: 12, Index: 6\n",
      "Elem: 13, Index: 7\n"
     ]
    }
   ],
   "source": [
    "a = range(6,14)\n",
    "for i in a:\n",
    "    print(\"Elem: {0}, Index: {1}\".format(i, binfind(a, i, 0, len(a)-1)))"
   ]
  },
  {
   "cell_type": "markdown",
   "metadata": {},
   "source": [
    "Несмотря на кажущуюся элементарность алгоритма, часто допускают ошибки, не учитывая многие ситуации.\n",
    "Частые ошибки:\n",
    " - не работает с массивом из 0/1/2 элементов\n",
    " - не находит первый или последний элемент"
   ]
  },
  {
   "cell_type": "code",
   "execution_count": 101,
   "metadata": {},
   "outputs": [],
   "source": [
    "a = []\n",
    "for i in a:\n",
    "    print(\"Elem: {0}, Index: {1}\".format(i, binfind(a, i, 0, len(a)-1)))"
   ]
  },
  {
   "cell_type": "code",
   "execution_count": 104,
   "metadata": {},
   "outputs": [
    {
     "data": {
      "text/plain": [
       "-1"
      ]
     },
     "execution_count": 104,
     "metadata": {},
     "output_type": "execute_result"
    }
   ],
   "source": [
    "a = []\n",
    "binfind(a, 3, 0, 0)"
   ]
  },
  {
   "cell_type": "markdown",
   "metadata": {},
   "source": [
    "- некорректно работает, если элемента в массиве нет\n"
   ]
  },
  {
   "cell_type": "code",
   "execution_count": 105,
   "metadata": {},
   "outputs": [
    {
     "data": {
      "text/plain": [
       "-1"
      ]
     },
     "execution_count": 105,
     "metadata": {},
     "output_type": "execute_result"
    }
   ],
   "source": [
    "binfind(range(10), 125, 0, len(a)-1)"
   ]
  },
  {
   "cell_type": "markdown",
   "metadata": {},
   "source": [
    "См. статьи  <a href=\"http://habrahabr.ru/post/91605/\">Только 10% программистов способны написать двоичный поиск</a> и <a href=\"http://habrahabr.ru/post/146228/\">Я не могу написать бинарный поиск</a> на Хабрахабре.  "
   ]
  },
  {
   "cell_type": "markdown",
   "metadata": {},
   "source": [
    "### Линейный поиск"
   ]
  },
  {
   "cell_type": "markdown",
   "metadata": {},
   "source": [
    "Простейший алгоритм поиска элемента в списке, также известен, как метод перебора или \"грубой силы\". Работает за время O(n), где n - длина списка на входе (понятно  и по названию алгоритма)"
   ]
  },
  {
   "cell_type": "code",
   "execution_count": 71,
   "metadata": {},
   "outputs": [],
   "source": [
    "def linear_search(a_list, x):\n",
    "    i, length = 0, len(a_list)\n",
    "    while i < length and x != a_list[i]:\n",
    "        i += 1\n",
    "    return i if i < length else -1"
   ]
  },
  {
   "cell_type": "code",
   "execution_count": 73,
   "metadata": {},
   "outputs": [
    {
     "name": "stdout",
     "output_type": "stream",
     "text": [
      "Elem: 0, Index: 0\n",
      "Elem: 1, Index: 1\n",
      "Elem: 2, Index: 2\n",
      "Elem: 3, Index: 3\n",
      "Elem: 4, Index: 4\n",
      "Elem: 5, Index: 5\n",
      "Elem: 6, Index: 6\n",
      "Elem: 7, Index: 7\n",
      "Elem: 8, Index: 8\n",
      "Elem: 9, Index: 9\n"
     ]
    }
   ],
   "source": [
    "a = range(10)\n",
    "for i in a:\n",
    "    print(\"Elem: {0}, Index: {1}\".format(i, linear_search(a, i)))"
   ]
  },
  {
   "cell_type": "markdown",
   "metadata": {},
   "source": [
    "В случае повторяющихся элементов алгоритм вернет индекс первого попавшегося элемента"
   ]
  },
  {
   "cell_type": "code",
   "execution_count": 96,
   "metadata": {},
   "outputs": [
    {
     "data": {
      "text/plain": [
       "3"
      ]
     },
     "execution_count": 96,
     "metadata": {},
     "output_type": "execute_result"
    }
   ],
   "source": [
    "a = [32, 1, 3, 4, 2, 1]\n",
    "linear_search(a, 4)"
   ]
  },
  {
   "cell_type": "markdown",
   "metadata": {},
   "source": [
    "## Алгоритмы сортировки"
   ]
  },
  {
   "cell_type": "markdown",
   "metadata": {},
   "source": [
    "Задача сортировки - одна из первых в информатике, всегда служила и тестом на производительность компьютеров.\n",
    "\n",
    "Большой список алгоритмов сортировки - в английской  <a href=\"https://en.wikipedia.org/wiki/Sorting_algorithm\">Википедии</a>.\n",
    "\n",
    "Сайт с анимацией алогитмов сортировки - <a href=\"http://sorting.at\">sorting.at</a>.\n",
    "\n",
    "Неформальное <a href=\"http://habrahabr.ru/post/263765/#first_unread\">введение</a> в структуры данных на Хабрахабре.\n",
    "\n",
    "Рекомендую курс Stanford по построению и анализу алгоритмов - <a href=\"https://www.coursera.org/course/algo\">часть 1</a> и <a href=\"https://www.coursera.org/course/algo2\">часть 2</a>."
   ]
  },
  {
   "cell_type": "markdown",
   "metadata": {},
   "source": [
    "### HeapSort"
   ]
  },
  {
   "cell_type": "markdown",
   "metadata": {},
   "source": [
    "Используем реализацию структуры данных \"куча\" из библиотеки <a href=\"https://docs.python.org/2/library/heapq.html\">heapq</a>.\n",
    "\n",
    "Для сортировки нам понадобятся методы heappush и heappop - для вставки элемента в структуру и удаления элемента структры с сохраненим инварианта этой структуры данных - значения дочерних элементво меньше значения родительского элемента."
   ]
  },
  {
   "cell_type": "markdown",
   "metadata": {},
   "source": [
    "Реализация алгоритма очень проста: из кучи последовательно извлекается  максимальный (корневой) элемент и записывается в конец списка, пока куча не опустеет. Сложность алгоритма - O(n*log(n)), где n - длина списка на входе."
   ]
  },
  {
   "cell_type": "code",
   "execution_count": 1,
   "metadata": {},
   "outputs": [
    {
     "data": {
      "text/plain": [
       "[0, 1, 2, 3, 4, 5, 6, 7, 8, 9]"
      ]
     },
     "execution_count": 1,
     "metadata": {},
     "output_type": "execute_result"
    }
   ],
   "source": [
    "import heapq\n",
    "def heapsort(a_list):\n",
    "    h = []\n",
    "    for value in a_list:\n",
    "        heapq.heappush(h, value)\n",
    "    return [heapq.heappop(h) for i in range(len(h))]\n",
    "\n",
    "heapsort([1, 3, 5, 7, 9, 2, 4, 6, 8, 0])"
   ]
  },
  {
   "cell_type": "code",
   "execution_count": 107,
   "metadata": {},
   "outputs": [
    {
     "name": "stdout",
     "output_type": "stream",
     "text": [
      "100000 loops, best of 3: 8.89 µs per loop\n"
     ]
    }
   ],
   "source": [
    "%timeit heapsort([1, 3, 5, 7, 9, 2, 4, 6, 8, 0])"
   ]
  },
  {
   "cell_type": "markdown",
   "metadata": {},
   "source": [
    "## QuickSort"
   ]
  },
  {
   "cell_type": "markdown",
   "metadata": {},
   "source": [
    "Один из самых известных алгоритмов сортировки, также известный как <a href=\"https://ru.wikipedia.org/wiki/%D0%91%D1%8B%D1%81%D1%82%D1%80%D0%B0%D1%8F_%D1%81%D0%BE%D1%80%D1%82%D0%B8%D1%80%D0%BE%D0%B2%D0%BA%D0%B0#.D0.A0.D0.B5.D0.B0.D0.BB.D0.B8.D0.B7.D0.B0.D1.86.D0.B8.D1.8F\">qsort</a>. Без рандомизации может выглядеть очень лаконично"
   ]
  },
  {
   "cell_type": "code",
   "execution_count": 108,
   "metadata": {},
   "outputs": [
    {
     "data": {
      "text/plain": [
       "[0, 1, 2, 3, 4, 5, 6, 7, 8, 9]"
      ]
     },
     "execution_count": 108,
     "metadata": {},
     "output_type": "execute_result"
    }
   ],
   "source": [
    "def quick_sort(arr):\n",
    "    if len(arr) <= 1:\n",
    "        return arr\n",
    "    else:\n",
    "        return quick_sort([x for x in arr[1:] if x < arr[0]]) + \\\n",
    "               [arr[0]] + \\\n",
    "               quick_sort([x for x in arr[1:] if x >= arr[0]])\n",
    "\n",
    "quick_sort([1, 3, 5, 7, 9, 2, 4, 6, 8, 0])"
   ]
  },
  {
   "cell_type": "code",
   "execution_count": 109,
   "metadata": {},
   "outputs": [
    {
     "name": "stdout",
     "output_type": "stream",
     "text": [
      "10000 loops, best of 3: 24.7 µs per loop\n"
     ]
    }
   ],
   "source": [
    "%timeit quick_sort([1, 3, 5, 7, 9, 2, 4, 6, 8, 0])"
   ]
  },
  {
   "cell_type": "markdown",
   "metadata": {},
   "source": [
    "## Полезные ссылки\n",
    " - <a href=\"http://habrahabr.ru/post/91605/\">Только 10% программистов способны написать двоичный поиск</a>\n",
    " - <a href=\"http://habrahabr.ru/post/146228/\">Я не могу написать бинарный поиск</a>\n",
    " - <a href=\"https://en.wikipedia.org/wiki/Sorting_algorithm\">Список алгоритмов сортировки на Википедии</a>\n",
    " - анимация алогитмов сортировки - <a href=\"http://sorting.at\">sorting.at</a>.\n",
    " - курс Stanford по построению и анализу алгоритмов - <a href=\"https://www.coursera.org/course/algo\">часть 1</a> и <a href=\"https://www.coursera.org/course/algo2\">часть 2</a>.\n",
    " - Неформальное <a href=\"http://habrahabr.ru/post/263765/#first_unread\">введение</a> в структуры данных на Хабрахабре.\n",
    " - <a href=\"https://github.com/Yorko/interactive-coding-challenges\">репозиторий</a> GitHub с задачами на алгоритмы в виде тетрадок ipython"
   ]
  }
 ],
 "metadata": {
  "kernelspec": {
   "display_name": "Python 3",
   "language": "python",
   "name": "python3"
  },
  "language_info": {
   "codemirror_mode": {
    "name": "ipython",
    "version": 3
   },
   "file_extension": ".py",
   "mimetype": "text/x-python",
   "name": "python",
   "nbconvert_exporter": "python",
   "pygments_lexer": "ipython3",
   "version": "3.6.3"
  },
  "name": "from_file_to_dict.ipynb",
  "toc": {
   "nav_menu": {},
   "number_sections": true,
   "sideBar": true,
   "skip_h1_title": false,
   "title_cell": "Table of Contents",
   "title_sidebar": "Contents",
   "toc_cell": false,
   "toc_position": {},
   "toc_section_display": true,
   "toc_window_display": false
  }
 },
 "nbformat": 4,
 "nbformat_minor": 1
}
