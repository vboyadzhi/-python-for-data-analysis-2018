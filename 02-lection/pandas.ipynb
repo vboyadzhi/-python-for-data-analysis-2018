{
 "cells": [
  {
   "cell_type": "code",
   "execution_count": null,
   "metadata": {
    "ExecuteTime": {
     "end_time": "2018-06-21T08:19:38.074648Z",
     "start_time": "2018-06-21T08:19:37.715963Z"
    }
   },
   "outputs": [],
   "source": [
    "ls data"
   ]
  },
  {
   "cell_type": "code",
   "execution_count": null,
   "metadata": {
    "ExecuteTime": {
     "end_time": "2018-06-21T08:19:36.911173Z",
     "start_time": "2018-06-21T08:19:33.208139Z"
    }
   },
   "outputs": [],
   "source": [
    "import pandas"
   ]
  },
  {
   "cell_type": "code",
   "execution_count": null,
   "metadata": {
    "ExecuteTime": {
     "end_time": "2018-06-21T08:27:58.810175Z",
     "start_time": "2018-06-21T08:27:58.801674Z"
    }
   },
   "outputs": [],
   "source": [
    "from unidecode import unidecode"
   ]
  },
  {
   "cell_type": "code",
   "execution_count": null,
   "metadata": {
    "ExecuteTime": {
     "end_time": "2018-06-21T08:31:14.028575Z",
     "start_time": "2018-06-21T08:31:13.903011Z"
    }
   },
   "outputs": [],
   "source": [
    "!head data/Departements.csv"
   ]
  },
  {
   "cell_type": "code",
   "execution_count": null,
   "metadata": {
    "ExecuteTime": {
     "end_time": "2018-06-21T08:31:17.053086Z",
     "start_time": "2018-06-21T08:31:17.038155Z"
    }
   },
   "outputs": [],
   "source": [
    "departements = pandas.read_csv(\"data/Departements.csv\", sep=\";\")"
   ]
  },
  {
   "cell_type": "code",
   "execution_count": null,
   "metadata": {
    "ExecuteTime": {
     "end_time": "2018-06-21T08:31:22.970509Z",
     "start_time": "2018-06-21T08:31:22.949158Z"
    }
   },
   "outputs": [],
   "source": [
    "departements.head()"
   ]
  },
  {
   "cell_type": "code",
   "execution_count": null,
   "metadata": {
    "ExecuteTime": {
     "end_time": "2018-06-21T08:31:38.233426Z",
     "start_time": "2018-06-21T08:31:38.224970Z"
    }
   },
   "outputs": [],
   "source": [
    "departements = departements[[\"Nom du département\", \"Population totale\"]]"
   ]
  },
  {
   "cell_type": "code",
   "execution_count": null,
   "metadata": {
    "ExecuteTime": {
     "end_time": "2018-06-21T08:31:41.070743Z",
     "start_time": "2018-06-21T08:31:40.907267Z"
    }
   },
   "outputs": [],
   "source": [
    "museums = pandas.read_excel(\"data/Liste_musees_de_France.xls\")"
   ]
  },
  {
   "cell_type": "code",
   "execution_count": null,
   "metadata": {
    "ExecuteTime": {
     "end_time": "2018-06-21T08:31:41.504375Z",
     "start_time": "2018-06-21T08:31:41.471568Z"
    }
   },
   "outputs": [],
   "source": [
    "museums.head()"
   ]
  },
  {
   "cell_type": "code",
   "execution_count": null,
   "metadata": {
    "ExecuteTime": {
     "end_time": "2018-06-21T08:31:46.817326Z",
     "start_time": "2018-06-21T08:31:46.804094Z"
    }
   },
   "outputs": [],
   "source": [
    "museums[\"NOMDEP\"] = museums[\"NOMDEP\"].apply(lambda s: s.replace(\"-\", \" \"))"
   ]
  },
  {
   "cell_type": "code",
   "execution_count": null,
   "metadata": {
    "ExecuteTime": {
     "end_time": "2018-06-21T08:32:19.531314Z",
     "start_time": "2018-06-21T08:32:19.522659Z"
    }
   },
   "outputs": [],
   "source": [
    "museum_count = museums.groupby(\"NOMDEP\").size()"
   ]
  },
  {
   "cell_type": "code",
   "execution_count": null,
   "metadata": {
    "ExecuteTime": {
     "end_time": "2018-06-21T08:28:57.132901Z",
     "start_time": "2018-06-21T08:28:57.122285Z"
    }
   },
   "outputs": [],
   "source": [
    "museum_count.head(20)"
   ]
  },
  {
   "cell_type": "code",
   "execution_count": null,
   "metadata": {
    "ExecuteTime": {
     "end_time": "2018-06-21T08:33:00.528307Z",
     "start_time": "2018-06-21T08:33:00.437650Z"
    }
   },
   "outputs": [],
   "source": [
    "departements[\"Nom du département\"] = departements[\"Nom du département\"].apply(lambda s: s.upper())\n",
    "departements[\"Nom du département\"] = departements[\"Nom du département\"].apply(lambda s: s.replace(\"-\", \" \"))"
   ]
  },
  {
   "cell_type": "code",
   "execution_count": null,
   "metadata": {
    "ExecuteTime": {
     "end_time": "2018-06-21T08:33:02.166311Z",
     "start_time": "2018-06-21T08:33:02.147472Z"
    }
   },
   "outputs": [],
   "source": [
    "departements.head(20)"
   ]
  },
  {
   "cell_type": "code",
   "execution_count": null,
   "metadata": {
    "ExecuteTime": {
     "end_time": "2018-06-21T08:33:16.027183Z",
     "start_time": "2018-06-21T08:33:15.717234Z"
    }
   },
   "outputs": [],
   "source": [
    "departements.index = departements[\"Nom du département\"]\n",
    "departements.drop([\"Nom du département\"], axis=1, inplace=True)"
   ]
  },
  {
   "cell_type": "code",
   "execution_count": null,
   "metadata": {
    "ExecuteTime": {
     "end_time": "2018-06-21T08:33:24.290475Z",
     "start_time": "2018-06-21T08:33:24.266489Z"
    }
   },
   "outputs": [],
   "source": [
    "departements.head(20)"
   ]
  },
  {
   "cell_type": "code",
   "execution_count": null,
   "metadata": {
    "ExecuteTime": {
     "end_time": "2018-06-21T08:33:39.074117Z",
     "start_time": "2018-06-21T08:33:39.058960Z"
    }
   },
   "outputs": [],
   "source": [
    "joined = departements.join(pandas.DataFrame(museum_count, index=museum_count.index, columns=[\"number of museums\"]))"
   ]
  },
  {
   "cell_type": "code",
   "execution_count": null,
   "metadata": {
    "ExecuteTime": {
     "end_time": "2018-06-21T08:33:40.455229Z",
     "start_time": "2018-06-21T08:33:40.435958Z"
    }
   },
   "outputs": [],
   "source": [
    "joined.head()"
   ]
  },
  {
   "cell_type": "code",
   "execution_count": null,
   "metadata": {
    "ExecuteTime": {
     "end_time": "2018-06-21T08:33:48.635539Z",
     "start_time": "2018-06-21T08:33:48.617541Z"
    }
   },
   "outputs": [],
   "source": [
    "joined[\"Population totale\"] = joined[\"Population totale\"].apply(lambda s: pandas.to_numeric(s, errors=\"drop\"))"
   ]
  },
  {
   "cell_type": "code",
   "execution_count": null,
   "metadata": {
    "ExecuteTime": {
     "end_time": "2018-06-21T08:33:49.141510Z",
     "start_time": "2018-06-21T08:33:49.125156Z"
    }
   },
   "outputs": [],
   "source": [
    "joined.corr()"
   ]
  },
  {
   "cell_type": "code",
   "execution_count": null,
   "metadata": {},
   "outputs": [],
   "source": []
  }
 ],
 "metadata": {
  "kernelspec": {
   "display_name": "Python 3.6.5",
   "language": "python",
   "name": "python3"
  },
  "language_info": {
   "codemirror_mode": {
    "name": "ipython",
    "version": 3
   },
   "file_extension": ".py",
   "mimetype": "text/x-python",
   "name": "python",
   "nbconvert_exporter": "python",
   "pygments_lexer": "ipython3",
   "version": "3.6.5"
  },
  "toc": {
   "base_numbering": 1,
   "nav_menu": {},
   "number_sections": true,
   "sideBar": true,
   "skip_h1_title": false,
   "title_cell": "Table of Contents",
   "title_sidebar": "Contents",
   "toc_cell": false,
   "toc_position": {},
   "toc_section_display": true,
   "toc_window_display": false
  }
 },
 "nbformat": 4,
 "nbformat_minor": 2
}
